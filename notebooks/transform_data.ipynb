{
 "cells": [
  {
   "cell_type": "markdown",
   "source": [
    "# Tratamento dos dados\n",
    "Nesta etapa será realizado todo o tratamento dos dados, como fazer as transformações de tipo de variável, tratamento de missing, tratamento de outliers"
   ],
   "metadata": {
    "collapsed": false
   }
  },
  {
   "cell_type": "code",
   "execution_count": 49,
   "outputs": [],
   "source": [
    "import pandas as pd\n",
    "import numpy as np\n",
    "import matplotlib.pyplot as plt"
   ],
   "metadata": {
    "collapsed": false,
    "ExecuteTime": {
     "start_time": "2023-04-05T15:32:15.694129Z",
     "end_time": "2023-04-05T15:32:15.727228Z"
    }
   }
  },
  {
   "cell_type": "code",
   "execution_count": 2,
   "outputs": [],
   "source": [
    "# Importando os dados\n",
    "df_vendas = pd.read_csv('../data/raw/sales.csv', index_col=0)\n",
    "df_estoque_lvl = pd.read_csv('../data/raw/sensor_stock_levels.csv', index_col=0)\n",
    "df_temperatura = pd.read_csv('../data/raw/sensor_storage_temperature.csv', index_col=0)"
   ],
   "metadata": {
    "collapsed": false,
    "ExecuteTime": {
     "start_time": "2023-04-05T14:29:28.371863Z",
     "end_time": "2023-04-05T14:29:28.473059Z"
    }
   }
  },
  {
   "cell_type": "markdown",
   "source": [
    "### Tratando o timestamp\n",
    "Conforme visto na documentação, as tabelas podem ser unidas usando o timestamp, mas essa variável é medida de forma diferente nas tabelas, dificultando assim a mesclagem. Para resolver isso irei alterar o timestamp apenas para data e hora sem minutos, pois como definido no problema, os sensores realizarão medidas hora a hora.\n",
    "\n",
    "Como a transformação funcionará:\n",
    "\n",
    "06/05/2020 19:45 -> 06/05/2020 19:00\n",
    "09/04/2019 16:10 -> 09/04/2019 16:00\n",
    "19/10/2021 09:30 -> 19/10/2021 09:00"
   ],
   "metadata": {
    "collapsed": false
   }
  },
  {
   "cell_type": "code",
   "execution_count": 3,
   "outputs": [],
   "source": [
    "# Alterando a coluna timestamp\n",
    "df_vendas['timestamp'] = pd.to_datetime(df_vendas.timestamp.str.slice(0, 16))\n",
    "df_estoque_lvl['timestamp'] = pd.to_datetime(df_estoque_lvl.timestamp.str.slice(0, 16))\n",
    "df_temperatura['timestamp'] = pd.to_datetime(df_temperatura.timestamp.str.slice(0, 16))\n"
   ],
   "metadata": {
    "collapsed": false,
    "ExecuteTime": {
     "start_time": "2023-04-05T14:29:28.474911Z",
     "end_time": "2023-04-05T14:29:28.542376Z"
    }
   }
  },
  {
   "cell_type": "markdown",
   "source": [
    "### Unindo as tabelas"
   ],
   "metadata": {
    "collapsed": false
   }
  },
  {
   "cell_type": "code",
   "execution_count": 4,
   "outputs": [
    {
     "data": {
      "text/plain": "(92, 11)"
     },
     "execution_count": 4,
     "metadata": {},
     "output_type": "execute_result"
    }
   ],
   "source": [
    "# Unindo as tabelas e verificando o shape\n",
    "df_vendas.merge(df_estoque_lvl, on = ['product_id', 'timestamp']).shape"
   ],
   "metadata": {
    "collapsed": false,
    "ExecuteTime": {
     "start_time": "2023-04-05T14:29:28.550461Z",
     "end_time": "2023-04-05T14:29:28.583988Z"
    }
   }
  },
  {
   "cell_type": "code",
   "execution_count": 5,
   "outputs": [
    {
     "data": {
      "text/plain": "0.9882488184953379"
     },
     "execution_count": 5,
     "metadata": {},
     "output_type": "execute_result"
    }
   ],
   "source": [
    "# Calculando a perda de dados\n",
    "1 - df_vendas.merge(df_estoque_lvl, on = ['product_id', 'timestamp']).shape[0]/df_vendas.shape[0]"
   ],
   "metadata": {
    "collapsed": false,
    "ExecuteTime": {
     "start_time": "2023-04-05T14:29:28.589006Z",
     "end_time": "2023-04-05T14:29:28.603272Z"
    }
   }
  },
  {
   "cell_type": "markdown",
   "source": [
    "Como a data e hora das vendas são diferentes das datas e hora das medições dos sensores, a união realizada pelo método **merge** está causando uma perda de cerca de 98% dos dados de vendas, o que é bastante.\n",
    "\n",
    "Para solucionar esse problema, iremos unir os datasets manualmente utilizando o id e data, onde um produto será unido ao percentual de estoque anterior ao timestamp da venda."
   ],
   "metadata": {
    "collapsed": false
   }
  },
  {
   "cell_type": "code",
   "execution_count": 6,
   "outputs": [],
   "source": [
    "# Criando lista vazia\n",
    "lista_prcnt_estoque = []\n",
    "\n",
    "# Criando um loop para iterar sob cada indice\n",
    "for num in range(0, df_vendas.shape[0]):\n",
    "\n",
    "    # Tentando unir os dados usando o ID e o Timestamp\n",
    "    df_filtrado = df_estoque_lvl.query(f\"timestamp == '{str(df_vendas.iloc[num, 1])}' and product_id == '{df_vendas.iloc[num, 2]}'\")\n",
    "\n",
    "    # Definindo um condicional para caso a união anterior não seja realizada\n",
    "    if df_filtrado.shape[0] == 0:\n",
    "\n",
    "       # Buscando os timestamp referentes ao ID do produto na tabela de estoque\n",
    "        timestamp_estoque = df_estoque_lvl.query(f\"product_id == '{df_vendas.iloc[num, 2]}'\").timestamp.to_list()\n",
    "\n",
    "       # Buscando os timestamp referentes ao ID do produto na tabela de vendas e adicionando a uma lista\n",
    "        timestamp_venda = df_vendas.iloc[num, 1]\n",
    "        timestamp_estoque.append(timestamp_venda)\n",
    "\n",
    "        # Ordenando as variáveis\n",
    "        timestamp_ordenado = sorted(timestamp_estoque)\n",
    "\n",
    "       # Obtendo a data anterior a da venda e salvando em uma variável\n",
    "        index_timestamp = timestamp_ordenado.index(timestamp_venda) - 1\n",
    "        timestamp_novo = timestamp_ordenado[index_timestamp]\n",
    "\n",
    "       # Buscando a pctg de estoque usando o ID e o novo Timestamp\n",
    "        df_filtrado = df_estoque_lvl.query(f\"timestamp == '{timestamp_novo}' and product_id == '{df_vendas.iloc[num, 2]}'\")\n",
    "        lvl_estoque = df_filtrado.estimated_stock_pct.values[0]\n",
    "\n",
    "        # Adicionando a uma lista\n",
    "        lista_prcnt_estoque.append(lvl_estoque)\n",
    "\n",
    "    # Juntando as tabelas normalmente caso o condicional não seja atendido\n",
    "    else:\n",
    "        lvl_estoque = df_filtrado.estimated_stock_pct.values[0]\n",
    "        lista_prcnt_estoque.append(lvl_estoque)"
   ],
   "metadata": {
    "collapsed": false,
    "ExecuteTime": {
     "start_time": "2023-04-05T14:29:28.617479Z",
     "end_time": "2023-04-05T14:31:55.208830Z"
    }
   }
  },
  {
   "cell_type": "code",
   "execution_count": 7,
   "outputs": [],
   "source": [
    "# Adicionando os valores ao dataset de vendas\n",
    "df_vendas['prcnt_stock'] = lista_prcnt_estoque"
   ],
   "metadata": {
    "collapsed": false,
    "ExecuteTime": {
     "start_time": "2023-04-05T14:31:55.208830Z",
     "end_time": "2023-04-05T14:31:55.249595Z"
    }
   }
  },
  {
   "cell_type": "code",
   "execution_count": 8,
   "outputs": [
    {
     "data": {
      "text/plain": "                                         id           timestamp  temperature\n14130  d451bd29-d3d2-42a1-b228-150b5ba4d664 2022-03-01 09:00:00        -1.93\n15982  148a729c-0926-4f8b-9bda-f214d0f67b8d 2022-03-01 09:00:00         1.00\n5593   151f56ba-b488-4297-b503-f5b50fee2be7 2022-03-01 09:00:00        -2.10\n6061   d050c5f2-0ffc-49ee-b8a0-beef559f5b29 2022-03-01 09:00:00         1.85\n7495   fb02fefe-da3a-4e1d-98be-f6523bc6fac6 2022-03-01 09:00:00        -2.45\n...                                     ...                 ...          ...\n14453  4a978e83-4b25-4648-85c5-f354e015fe4d 2022-03-07 19:59:00        -2.91\n7902   36a6cdb6-b344-4bfb-ab21-4f33ffe064e0 2022-03-07 19:59:00         0.71\n18379  d502a503-33ec-49c8-97e7-792aa6ce3421 2022-03-07 19:59:00        -2.98\n12147  33313da5-9999-4aef-a595-63ad14fe9468 2022-03-07 19:59:00         0.55\n4786   4618ae06-d829-4a3c-8453-e931f3a474e4 2022-03-07 19:59:00        22.55\n\n[23890 rows x 3 columns]",
      "text/html": "<div>\n<style scoped>\n    .dataframe tbody tr th:only-of-type {\n        vertical-align: middle;\n    }\n\n    .dataframe tbody tr th {\n        vertical-align: top;\n    }\n\n    .dataframe thead th {\n        text-align: right;\n    }\n</style>\n<table border=\"1\" class=\"dataframe\">\n  <thead>\n    <tr style=\"text-align: right;\">\n      <th></th>\n      <th>id</th>\n      <th>timestamp</th>\n      <th>temperature</th>\n    </tr>\n  </thead>\n  <tbody>\n    <tr>\n      <th>14130</th>\n      <td>d451bd29-d3d2-42a1-b228-150b5ba4d664</td>\n      <td>2022-03-01 09:00:00</td>\n      <td>-1.93</td>\n    </tr>\n    <tr>\n      <th>15982</th>\n      <td>148a729c-0926-4f8b-9bda-f214d0f67b8d</td>\n      <td>2022-03-01 09:00:00</td>\n      <td>1.00</td>\n    </tr>\n    <tr>\n      <th>5593</th>\n      <td>151f56ba-b488-4297-b503-f5b50fee2be7</td>\n      <td>2022-03-01 09:00:00</td>\n      <td>-2.10</td>\n    </tr>\n    <tr>\n      <th>6061</th>\n      <td>d050c5f2-0ffc-49ee-b8a0-beef559f5b29</td>\n      <td>2022-03-01 09:00:00</td>\n      <td>1.85</td>\n    </tr>\n    <tr>\n      <th>7495</th>\n      <td>fb02fefe-da3a-4e1d-98be-f6523bc6fac6</td>\n      <td>2022-03-01 09:00:00</td>\n      <td>-2.45</td>\n    </tr>\n    <tr>\n      <th>...</th>\n      <td>...</td>\n      <td>...</td>\n      <td>...</td>\n    </tr>\n    <tr>\n      <th>14453</th>\n      <td>4a978e83-4b25-4648-85c5-f354e015fe4d</td>\n      <td>2022-03-07 19:59:00</td>\n      <td>-2.91</td>\n    </tr>\n    <tr>\n      <th>7902</th>\n      <td>36a6cdb6-b344-4bfb-ab21-4f33ffe064e0</td>\n      <td>2022-03-07 19:59:00</td>\n      <td>0.71</td>\n    </tr>\n    <tr>\n      <th>18379</th>\n      <td>d502a503-33ec-49c8-97e7-792aa6ce3421</td>\n      <td>2022-03-07 19:59:00</td>\n      <td>-2.98</td>\n    </tr>\n    <tr>\n      <th>12147</th>\n      <td>33313da5-9999-4aef-a595-63ad14fe9468</td>\n      <td>2022-03-07 19:59:00</td>\n      <td>0.55</td>\n    </tr>\n    <tr>\n      <th>4786</th>\n      <td>4618ae06-d829-4a3c-8453-e931f3a474e4</td>\n      <td>2022-03-07 19:59:00</td>\n      <td>22.55</td>\n    </tr>\n  </tbody>\n</table>\n<p>23890 rows × 3 columns</p>\n</div>"
     },
     "execution_count": 8,
     "metadata": {},
     "output_type": "execute_result"
    }
   ],
   "source": [
    "# Checando a próxima tabela\n",
    "df_temperatura.sort_values('timestamp')"
   ],
   "metadata": {
    "collapsed": false,
    "ExecuteTime": {
     "start_time": "2023-04-05T14:31:55.243993Z",
     "end_time": "2023-04-05T14:31:55.301652Z"
    }
   }
  },
  {
   "cell_type": "markdown",
   "source": [
    "Aqui a nossa abordagem será alterada, pois ao contrário da tabela de estoque, onde tínhamos valores únicos por timestamp devido a diferenciação proporcionada ID, não possuímos a mesma diferenciação aqui, onde cada timestamp possui vários valores diferentes de temperatura associados a ele.\n",
    "\n",
    "Sendo assim, irei agrupar o timestamp e usarei a coluna de temperatura par calcular algumas estatísticas para cada horário, como média, desvio padrão, mediana, variância, etc. É necessário valores únicos para uma união sem perda de valor entre as tabelas."
   ],
   "metadata": {
    "collapsed": false
   }
  },
  {
   "cell_type": "code",
   "execution_count": 9,
   "outputs": [],
   "source": [
    "# Computando estatísticas e resetando o index\n",
    "df_temperatura = df_temperatura.groupby('timestamp').temperature.agg(['std', 'var', 'sem', 'mean', 'median', 'min', 'max'])\n",
    "df_temperatura = df_temperatura.reset_index()"
   ],
   "metadata": {
    "collapsed": false,
    "ExecuteTime": {
     "start_time": "2023-04-05T14:31:55.285208Z",
     "end_time": "2023-04-05T14:31:55.399784Z"
    }
   }
  },
  {
   "cell_type": "code",
   "execution_count": 15,
   "outputs": [],
   "source": [
    "# Unindo as  e salvando os dados\n",
    "df_unido = df_vendas.merge(df_temperatura, on = 'timestamp')\n",
    "df_unido.to_csv('../data/interim/dados_unidos.csv')"
   ],
   "metadata": {
    "collapsed": false,
    "ExecuteTime": {
     "start_time": "2023-04-05T14:44:20.057329Z",
     "end_time": "2023-04-05T14:44:20.232338Z"
    }
   }
  },
  {
   "cell_type": "code",
   "execution_count": 16,
   "outputs": [
    {
     "data": {
      "text/plain": "                         transaction_id           timestamp  \\\n0  a1c82654-c52c-45b3-8ce8-4c2a1efe63ed 2022-03-02 09:51:00   \n1  09125d95-599d-42ec-86d6-14114b9b0a2d 2022-03-02 09:51:00   \n2  d61fa000-dff4-45c0-b4f6-9530c047e0ff 2022-03-02 09:51:00   \n3  6e02d286-ee8f-4e3c-9945-f358999b2d37 2022-03-02 09:51:00   \n4  257ce545-3c86-44e9-8c73-2c2d231bee71 2022-03-02 09:51:00   \n\n                             product_id            category customer_type  \\\n0  3bc6c1ea-0198-46de-9ffd-514ae3338713               fruit          gold   \n1  14736243-d346-438f-9535-d80fcb9f3882               fruit       premium   \n2  7f5e86e6-f06f-45f6-bf44-27b095c9ad1d               fruit    non-member   \n3  7f6922e9-b858-41c6-8765-9750bc5e8a86  refrigerated items          gold   \n4  049b2171-0eeb-4a3e-bf98-0c290c7821da        canned foods          gold   \n\n   unit_price  quantity  total payment_type  prcnt_stock       std      var  \\\n0        3.99         2   7.98     e-wallet         0.23  2.161724  4.67305   \n1        1.49         1   1.49  credit card         0.54  2.161724  4.67305   \n2        4.49         4  17.96  credit card         0.71  2.161724  4.67305   \n3        5.99         1   5.99  credit card         0.54  2.161724  4.67305   \n4        2.49         1   2.49     e-wallet         0.33  2.161724  4.67305   \n\n        sem  mean  median   min   max  \n0  0.966752 -1.05   -2.24 -2.89  1.67  \n1  0.966752 -1.05   -2.24 -2.89  1.67  \n2  0.966752 -1.05   -2.24 -2.89  1.67  \n3  0.966752 -1.05   -2.24 -2.89  1.67  \n4  0.966752 -1.05   -2.24 -2.89  1.67  ",
      "text/html": "<div>\n<style scoped>\n    .dataframe tbody tr th:only-of-type {\n        vertical-align: middle;\n    }\n\n    .dataframe tbody tr th {\n        vertical-align: top;\n    }\n\n    .dataframe thead th {\n        text-align: right;\n    }\n</style>\n<table border=\"1\" class=\"dataframe\">\n  <thead>\n    <tr style=\"text-align: right;\">\n      <th></th>\n      <th>transaction_id</th>\n      <th>timestamp</th>\n      <th>product_id</th>\n      <th>category</th>\n      <th>customer_type</th>\n      <th>unit_price</th>\n      <th>quantity</th>\n      <th>total</th>\n      <th>payment_type</th>\n      <th>prcnt_stock</th>\n      <th>std</th>\n      <th>var</th>\n      <th>sem</th>\n      <th>mean</th>\n      <th>median</th>\n      <th>min</th>\n      <th>max</th>\n    </tr>\n  </thead>\n  <tbody>\n    <tr>\n      <th>0</th>\n      <td>a1c82654-c52c-45b3-8ce8-4c2a1efe63ed</td>\n      <td>2022-03-02 09:51:00</td>\n      <td>3bc6c1ea-0198-46de-9ffd-514ae3338713</td>\n      <td>fruit</td>\n      <td>gold</td>\n      <td>3.99</td>\n      <td>2</td>\n      <td>7.98</td>\n      <td>e-wallet</td>\n      <td>0.23</td>\n      <td>2.161724</td>\n      <td>4.67305</td>\n      <td>0.966752</td>\n      <td>-1.05</td>\n      <td>-2.24</td>\n      <td>-2.89</td>\n      <td>1.67</td>\n    </tr>\n    <tr>\n      <th>1</th>\n      <td>09125d95-599d-42ec-86d6-14114b9b0a2d</td>\n      <td>2022-03-02 09:51:00</td>\n      <td>14736243-d346-438f-9535-d80fcb9f3882</td>\n      <td>fruit</td>\n      <td>premium</td>\n      <td>1.49</td>\n      <td>1</td>\n      <td>1.49</td>\n      <td>credit card</td>\n      <td>0.54</td>\n      <td>2.161724</td>\n      <td>4.67305</td>\n      <td>0.966752</td>\n      <td>-1.05</td>\n      <td>-2.24</td>\n      <td>-2.89</td>\n      <td>1.67</td>\n    </tr>\n    <tr>\n      <th>2</th>\n      <td>d61fa000-dff4-45c0-b4f6-9530c047e0ff</td>\n      <td>2022-03-02 09:51:00</td>\n      <td>7f5e86e6-f06f-45f6-bf44-27b095c9ad1d</td>\n      <td>fruit</td>\n      <td>non-member</td>\n      <td>4.49</td>\n      <td>4</td>\n      <td>17.96</td>\n      <td>credit card</td>\n      <td>0.71</td>\n      <td>2.161724</td>\n      <td>4.67305</td>\n      <td>0.966752</td>\n      <td>-1.05</td>\n      <td>-2.24</td>\n      <td>-2.89</td>\n      <td>1.67</td>\n    </tr>\n    <tr>\n      <th>3</th>\n      <td>6e02d286-ee8f-4e3c-9945-f358999b2d37</td>\n      <td>2022-03-02 09:51:00</td>\n      <td>7f6922e9-b858-41c6-8765-9750bc5e8a86</td>\n      <td>refrigerated items</td>\n      <td>gold</td>\n      <td>5.99</td>\n      <td>1</td>\n      <td>5.99</td>\n      <td>credit card</td>\n      <td>0.54</td>\n      <td>2.161724</td>\n      <td>4.67305</td>\n      <td>0.966752</td>\n      <td>-1.05</td>\n      <td>-2.24</td>\n      <td>-2.89</td>\n      <td>1.67</td>\n    </tr>\n    <tr>\n      <th>4</th>\n      <td>257ce545-3c86-44e9-8c73-2c2d231bee71</td>\n      <td>2022-03-02 09:51:00</td>\n      <td>049b2171-0eeb-4a3e-bf98-0c290c7821da</td>\n      <td>canned foods</td>\n      <td>gold</td>\n      <td>2.49</td>\n      <td>1</td>\n      <td>2.49</td>\n      <td>e-wallet</td>\n      <td>0.33</td>\n      <td>2.161724</td>\n      <td>4.67305</td>\n      <td>0.966752</td>\n      <td>-1.05</td>\n      <td>-2.24</td>\n      <td>-2.89</td>\n      <td>1.67</td>\n    </tr>\n  </tbody>\n</table>\n</div>"
     },
     "execution_count": 16,
     "metadata": {},
     "output_type": "execute_result"
    }
   ],
   "source": [
    "# Checando o resultado da união\n",
    "df_unido.head()"
   ],
   "metadata": {
    "collapsed": false,
    "ExecuteTime": {
     "start_time": "2023-04-05T14:45:15.642181Z",
     "end_time": "2023-04-05T14:45:15.687547Z"
    }
   }
  },
  {
   "cell_type": "markdown",
   "source": [
    "Agora que já possuímos um dataset completo, vou criar mais algumas feature a partir dos dados de tempo e dropar os id's."
   ],
   "metadata": {
    "collapsed": false
   }
  },
  {
   "cell_type": "code",
   "execution_count": 18,
   "outputs": [],
   "source": [
    "# Buscando o dia da semana\n",
    "df_unido['day_of_week'] = df_unido.timestamp.dt.weekday\n",
    "\n",
    "# Buscando se é final de semana\n",
    "df_unido['is_weekend'] = df_unido.week_day.apply(lambda day: 'yes' if day > 4 else 'no')\n",
    "\n",
    "# Buscando a hora e turno\n",
    "df_unido['hour'] = df_unido.timestamp.dt.hour\n",
    "df_unido['turn'] = df_unido.hour.apply(lambda hour: 'morning' if hour < 12 else ('afternoon' if 12 <= hour < 18 else 'night'))"
   ],
   "metadata": {
    "collapsed": false,
    "ExecuteTime": {
     "start_time": "2023-04-05T14:53:04.474093Z",
     "end_time": "2023-04-05T14:53:04.497494Z"
    }
   }
  },
  {
   "cell_type": "code",
   "execution_count": 24,
   "outputs": [],
   "source": [
    "df_unido['hour'] = df_unido.timestamp.dt.hour\n",
    "df_unido['turn'] = df_unido.hour.apply(lambda hour: 'morning' if hour < 12 else ('afternoon' if 12 <= hour < 18 else 'night'))"
   ],
   "metadata": {
    "collapsed": false,
    "ExecuteTime": {
     "start_time": "2023-04-05T15:05:59.403672Z",
     "end_time": "2023-04-05T15:05:59.420605Z"
    }
   }
  },
  {
   "cell_type": "code",
   "execution_count": 25,
   "outputs": [],
   "source": [
    "# Excluindo os id's\n",
    "df_unido = df_unido.drop(columns=['transaction_id', 'product_id'])"
   ],
   "metadata": {
    "collapsed": false,
    "ExecuteTime": {
     "start_time": "2023-04-05T15:16:43.900726Z",
     "end_time": "2023-04-05T15:16:43.919228Z"
    }
   }
  },
  {
   "cell_type": "markdown",
   "source": [
    "### Investigando Outliers\n",
    "Como vimos na etapa de EDA, existem alguns outliers nas colunas **total** e **unit_price**."
   ],
   "metadata": {
    "collapsed": false
   }
  },
  {
   "cell_type": "code",
   "execution_count": 62,
   "outputs": [],
   "source": [
    "# Calculando os quartis e o IQR\n",
    "q1 = np.quantile(df_unido.total, 0.25)\n",
    "q3 = np.quantile(df_unido.total, 0.75)\n",
    "iqr = q3 - q1\n",
    "\n",
    "#Separando os dados sem e com outliers\n",
    "dados_com_outliers = df_unido.query(f\"total > {q3 + 1.5 * iqr}\")\n",
    "dados_sem_outliers = df_unido.query(f\"total < {q3 + 1.5 * iqr}\")"
   ],
   "metadata": {
    "collapsed": false,
    "ExecuteTime": {
     "start_time": "2023-04-05T16:01:27.234616Z",
     "end_time": "2023-04-05T16:01:27.294706Z"
    }
   }
  },
  {
   "cell_type": "code",
   "execution_count": 63,
   "outputs": [
    {
     "data": {
      "text/plain": "(array([1903., 1516., 1242.,  800.,  609.,  496.,  394.,  252.,  142.,\n         153.]),\n array([ 0.19 ,  6.247, 12.304, 18.361, 24.418, 30.475, 36.532, 42.589,\n        48.646, 54.703, 60.76 ]),\n <BarContainer object of 10 artists>)"
     },
     "execution_count": 63,
     "metadata": {},
     "output_type": "execute_result"
    },
    {
     "data": {
      "text/plain": "<Figure size 640x480 with 1 Axes>",
      "image/png": "[encoded data removed]"
     },
     "metadata": {},
     "output_type": "display_data"
    }
   ],
   "source": [
    "# Verificando as distribuições\n",
    "plt.hist(dados_com_outliers.total, alpha = 0.75)\n",
    "plt.hist(dados_sem_outliers.total, alpha = 0.75)"
   ],
   "metadata": {
    "collapsed": false,
    "ExecuteTime": {
     "start_time": "2023-04-05T16:01:31.543479Z",
     "end_time": "2023-04-05T16:01:31.784665Z"
    }
   }
  },
  {
   "cell_type": "markdown",
   "source": [
    " A distribuição dos dados é relativamente próxima, não existindo outliers discrepantes."
   ],
   "metadata": {
    "collapsed": false
   }
  },
  {
   "cell_type": "code",
   "execution_count": 65,
   "outputs": [
    {
     "name": "stdout",
     "output_type": "stream",
     "text": [
      "O preço médio por unidade dos dados sem outliers é de: 7.389094178766484\n",
      "O preço médio por unidade dos dados com outliers é de: 18.545\n"
     ]
    }
   ],
   "source": [
    "print(f\"O preço médio por unidade dos dados sem outliers é de: {dados_sem_outliers.unit_price.mean()}\")\n",
    "print(f\"O preço médio por unidade dos dados com outliers é de: {dados_com_outliers.unit_price.mean()}\")\n"
   ],
   "metadata": {
    "collapsed": false,
    "ExecuteTime": {
     "start_time": "2023-04-05T16:02:09.250269Z",
     "end_time": "2023-04-05T16:02:09.298939Z"
    }
   }
  },
  {
   "cell_type": "markdown",
   "source": [
    " diferença no preço é relativamente alta."
   ],
   "metadata": {
    "collapsed": false
   }
  },
  {
   "cell_type": "code",
   "execution_count": 66,
   "outputs": [
    {
     "name": "stdout",
     "output_type": "stream",
     "text": [
      "A quantidade média de itens comprados nos dados sem outliers é de: 2.4457173304915414\n",
      "A quantidade média de itens comprados nos dados com outliers é de: 3.88\n"
     ]
    }
   ],
   "source": [
    "print(f\"A quantidade média de itens comprados nos dados sem outliers é de: {dados_sem_outliers.quantity.mean()}\")\n",
    "print(f\"A quantidade média de itens comprados nos dados com outliers é de: {dados_com_outliers.quantity.mean()}\")"
   ],
   "metadata": {
    "collapsed": false,
    "ExecuteTime": {
     "start_time": "2023-04-05T16:02:15.373497Z",
     "end_time": "2023-04-05T16:02:15.402589Z"
    }
   }
  },
  {
   "cell_type": "markdown",
   "source": [
    "A quantidade de itens comprados também possui uma diferença significativa."
   ],
   "metadata": {
    "collapsed": false
   }
  },
  {
   "cell_type": "markdown",
   "source": [
    "Levando em consideração que as compras com outliers são aquelas que possuem os produtos mais caros e que são levados em uma quantidade próxima ao máximo registrado, posso concluir que os outliers são naturais. Removê-los ou tratar como uma inconsistência atrapalharia no aprendizado do modelo."
   ],
   "metadata": {
    "collapsed": false
   }
  },
  {
   "cell_type": "markdown",
   "source": [
    "Levando em conta que não temos mais mais tratamentos para aplicar, não possuímos valores missing e nem duplicatas ou inconsistências, irei utilizar a última versão do dataset para construir um modelo de Machine Learning."
   ],
   "metadata": {
    "collapsed": false
   }
  }
 ],
 "metadata": {
  "kernelspec": {
   "display_name": "Python 3",
   "language": "python",
   "name": "python3"
  },
  "language_info": {
   "codemirror_mode": {
    "name": "ipython",
    "version": 2
   },
   "file_extension": ".py",
   "mimetype": "text/x-python",
   "name": "python",
   "nbconvert_exporter": "python",
   "pygments_lexer": "ipython2",
   "version": "2.7.6"
  }
 },
 "nbformat": 4,
 "nbformat_minor": 0
}
