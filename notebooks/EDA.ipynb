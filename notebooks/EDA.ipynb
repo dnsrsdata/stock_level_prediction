{
 "cells": [
  {
   "cell_type": "code",
   "execution_count": 57,
   "metadata": {},
   "outputs": [],
   "source": [
    "import polars as pl"
   ]
  },
  {
   "attachments": {},
   "cell_type": "markdown",
   "metadata": {},
   "source": [
    "# Análise Exploratória\n",
    "Neste notebook irei realizar uma exploração nos dados, buscando entender distribuições e relacionamentos entre as variáveis. Além disso, buscarei formular e responder questões que seriam de interesse do negócio."
   ]
  },
  {
   "attachments": {},
   "cell_type": "markdown",
   "metadata": {},
   "source": [
    "### Sobre os dados\n",
    "Três tabelas foram fornecidas pelo cliente, onde:\n",
    "- Vendas: dados de vendas.\n",
    "- Sensor_storage_temperature: dados IoT dos sensores de temperatura da instalação de armazenamento onde os produtos estão.\n",
    "- Sensor_stock_levels: níveis estimados de estoque de produtos com base em sensores IoT.\n",
    "\n",
    "Além disso, um diagrama de relacionamento também foi fornecido:\n",
    "\n",
    "![diagrama](..\\images\\diagram.png)\n",
    "\n",
    "Antes de iniciar a exploração em si, vamos juntar as tabelas para facilitar a maniplação dos dados."
   ]
  },
  {
   "attachments": {},
   "cell_type": "markdown",
   "metadata": {},
   "source": [
    "### Juntando as tabelas"
   ]
  },
  {
   "cell_type": "code",
   "execution_count": 58,
   "metadata": {},
   "outputs": [],
   "source": [
    "# Lendos os dados\n",
    "df_vendas = pl.read_csv('../data/raw/sales.csv')\n",
    "df_level_estoque = pl.read_csv('../data/raw/sensor_stock_levels.csv')\n",
    "df_temperatura = pl.read_csv('../data/raw/sensor_storage_temperature.csv')"
   ]
  },
  {
   "cell_type": "code",
   "execution_count": 59,
   "metadata": {},
   "outputs": [
    {
     "name": "stdout",
     "output_type": "stream",
     "text": [
      "df_vendas: (7829, 10)\n",
      "df_level_estoque: (15000, 5)\n",
      "df_temperatura: (23890, 4)\n"
     ]
    }
   ],
   "source": [
    "# Verificando as dimensões dos datasets\n",
    "print(f'df_vendas: {df_vendas.shape}')\n",
    "print(f'df_level_estoque: {df_level_estoque.shape}')\n",
    "print(f'df_temperatura: {df_temperatura.shape}')"
   ]
  },
  {
   "attachments": {},
   "cell_type": "markdown",
   "metadata": {},
   "source": [
    "- O número de registros nas tabelas dos sensores é bem superior aos de vendas\n",
    "\n",
    "Temos um problema aqui! Como dito anteriormente, o número de registros nas tabelas dos sensores é superior à de vendas, fazendo com que eu tenha que trabalhar essas variáveis para que eu possa usa-la para fazer um join."
   ]
  }
 ],
 "metadata": {
  "kernelspec": {
   "display_name": "venv",
   "language": "python",
   "name": "python3"
  },
  "language_info": {
   "codemirror_mode": {
    "name": "ipython",
    "version": 3
   },
   "file_extension": ".py",
   "mimetype": "text/x-python",
   "name": "python",
   "nbconvert_exporter": "python",
   "pygments_lexer": "ipython3",
   "version": "3.9.13"
  },
  "orig_nbformat": 4
 },
 "nbformat": 4,
 "nbformat_minor": 2
}
