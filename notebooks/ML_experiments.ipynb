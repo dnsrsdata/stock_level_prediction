{
 "cells": [
  {
   "cell_type": "markdown",
   "source": [
    "## Experimentação de modelos\n",
    " Nesta sessão irei realizar uma série de experimentos, combinando diferentes modelos e preprocessamentos. Para registrar tudo isso, irei utilizar o MLFlow.\n",
    "\n",
    "Aqui irei testar modelos baseados em distância e árvore, segue os esboços dos testes a serem realizados:\n",
    "\n",
    "Baseados em distância:\n",
    "- Standard Scaler em todas as variáveis numéricas + One Hot Encoder em todas as categóricas.\n",
    "- Standard Scaler em todas as variáveis numéricas + One Hot Encoder nas categóricas nominais + Ordinal Encoder nas ordinais.\n",
    "- Standard Scaler nas variáveis numéricas sem outliers + Robust Scaler nas variáveis com outliers + One Hot Encoder em todas as categóricas.\n",
    "- Standard Scaler nas variáveis numéricas sem outliers + Robust Scaler nas variáveis com outliers + One Hot Encoder em nas categóricas nominais + Ordinal Encoder nas ordinais.\n",
    "- Standard Scaler em todas as variáveis numéricas + One Hot Encoder em todas as categóricas + Isolation Forest para rotular os outliers.\n",
    "- Standard Scaler em todas as variáveis numéricas + One Hot Encoder nas categóricas nominais + Ordinal Encoder nas ordinais + Isolation Forest para rotular os outliers.\n",
    "- Standard Scaler nas variáveis numéricas sem outliers + Robust Scaler nas variáveis com outliers + One Hot Encoder em todas as categóricas + Isolation Forest para rotular os outliers.\n",
    "- Standard Scaler nas variáveis numéricas sem outliers + Robust Scaler nas variáveis com outliers + One Hot Encoder em nas categóricas nominais + Ordinal Encoder nas ordinais + Isolation Forest para rotular os outliers.\n",
    "\n",
    "\n",
    "Baseados em árvore:\n",
    "- Diferentes tipos de encoders da biblioteca **category encoders**  para as categóricas\n",
    "- Diferentes tipos de encoders da biblioteca **category encoders**  para as categóricas + Isolation Forest para rotular os outliers.\n",
    "Geral:"
   ],
   "metadata": {
    "collapsed": false
   }
  },
  {
   "cell_type": "code",
   "execution_count": 34,
   "outputs": [],
   "source": [
    "# Importando as bibliotecas\n",
    "\n",
    "import category_encoders as ce\n",
    "import mlflow\n",
    "import numpy as np\n",
    "import pandas as pd\n",
    "\n",
    "# Pré-processamento\n",
    "from sklearn.model_selection import train_test_split\n",
    "from sklearn.pipeline import Pipeline\n",
    "from sklearn.compose import ColumnTransformer\n",
    "from sklearn.model_selection import cross_val_score\n",
    "from sklearn.preprocessing import OneHotEncoder, StandardScaler, RobustScaler\n",
    "from sklearn.ensemble import IsolationForest\n",
    "\n",
    "# Modelos\n",
    "from sklearn.linear_model import LinearRegression, Lasso, Ridge, ElasticNet, SGDRegressor\n",
    "from sklearn.tree import DecisionTreeRegressor, ExtraTreeRegressor\n",
    "from sklearn.ensemble import RandomForestRegressor\n",
    "\n",
    "# Metricas\n",
    "from sklearn.metrics import mean_squared_error, mean_absolute_error"
   ],
   "metadata": {
    "collapsed": false,
    "ExecuteTime": {
     "start_time": "2023-04-09T17:03:37.450392Z",
     "end_time": "2023-04-09T17:03:37.460475Z"
    }
   }
  },
  {
   "cell_type": "code",
   "execution_count": 23,
   "outputs": [],
   "source": [
    "def registrarexperimento(modelos, tags, transformer, x_treino, y_treino):\n",
    "    \"\"\"\n",
    "    Função para registrar experimentos de acordo com modelos, tags e transformadores específicos.\n",
    "    :param modelos: lista contendo os modelos a serem testados\n",
    "    :param tags: lista contendo tags de identificação para cada modelo e transformações aplicadas\n",
    "    :param transformer: transformações que serão aplicadas ao conjunto de treino\n",
    "    :param x_treino: dados contendo as variáveis dependentes\n",
    "    :param y_treino: target\n",
    "    :return: None\n",
    "    \"\"\"\n",
    "    # Iterando com os modelos da lista\n",
    "    for model in modelos:\n",
    "\n",
    "        # Iniciando os experimentos\n",
    "        with mlflow.start_run():\n",
    "\n",
    "            # Colocando uma tag para identificação\n",
    "            index_modelo = modelos.index(model)\n",
    "            mlflow.set_tag('modelo', tags[index_modelo])\n",
    "\n",
    "            # Criando o pipeline\n",
    "            pipe = Pipeline([('transformer', transformer),\n",
    "                             ('regressor', model)])\n",
    "\n",
    "            # Calculando as métricas com cross-validation\n",
    "            mae_mean = cross_val_score(pipe,\n",
    "                                        x_treino,\n",
    "                                        y_treino,\n",
    "                                        cv=5,\n",
    "                                        scoring='neg_mean_absolute_error').mean() * (-1)\n",
    "\n",
    "            mae_std = cross_val_score(pipe,\n",
    "                                        x_treino,\n",
    "                                        y_treino,\n",
    "                                        cv=5,\n",
    "                                        scoring='neg_mean_absolute_error').std() * (-1)\n",
    "\n",
    "            rmse_mean = cross_val_score(pipe,\n",
    "                                        x_treino,\n",
    "                                        y_treino,\n",
    "                                        cv=5,\n",
    "                                        scoring='neg_root_mean_squared_error').mean() * (-1)\n",
    "\n",
    "            rmse_std = cross_val_score(pipe,\n",
    "                                        x_treino,\n",
    "                                        y_treino,\n",
    "                                        cv=5,\n",
    "                                        scoring='neg_root_mean_squared_error').std() * (-1)\n",
    "\n",
    "            # Salvando as métricas\n",
    "            mlflow.log_metric('mae_mean', mae_mean)\n",
    "            mlflow.log_metric('mae_std', mae_std)\n",
    "            mlflow.log_metric('rmse_mean', rmse_mean)\n",
    "            mlflow.log_metric('rmse_std', rmse_std)\n",
    "\n",
    "    return None"
   ],
   "metadata": {
    "collapsed": false,
    "ExecuteTime": {
     "start_time": "2023-04-09T16:39:43.157413Z",
     "end_time": "2023-04-09T16:39:43.180683Z"
    }
   }
  },
  {
   "cell_type": "code",
   "execution_count": 2,
   "outputs": [],
   "source": [
    "# Importando os dados\n",
    "dados = pd.read_csv('../data/interim/dados_para_treino.csv', index_col=0)"
   ],
   "metadata": {
    "collapsed": false,
    "ExecuteTime": {
     "start_time": "2023-04-09T16:16:39.307786Z",
     "end_time": "2023-04-09T16:16:39.371903Z"
    }
   }
  },
  {
   "cell_type": "code",
   "execution_count": 3,
   "outputs": [
    {
     "data": {
      "text/plain": "             category customer_type  unit_price  quantity  total payment_type  \\\n0               fruit          gold        3.99         2   7.98     e-wallet   \n1               fruit       premium        1.49         1   1.49  credit card   \n2               fruit    non-member        4.49         4  17.96  credit card   \n3  refrigerated items          gold        5.99         1   5.99  credit card   \n4        canned foods          gold        2.49         1   2.49     e-wallet   \n\n   prcnt_stock  mean  median   min   max  day_of_week is_weekend  hour  \\\n0         0.23 -1.05   -2.24 -2.89  1.67            2         no     9   \n1         0.54 -1.05   -2.24 -2.89  1.67            2         no     9   \n2         0.71 -1.05   -2.24 -2.89  1.67            2         no     9   \n3         0.54 -1.05   -2.24 -2.89  1.67            2         no     9   \n4         0.33 -1.05   -2.24 -2.89  1.67            2         no     9   \n\n      turn  \n0  morning  \n1  morning  \n2  morning  \n3  morning  \n4  morning  ",
      "text/html": "<div>\n<style scoped>\n    .dataframe tbody tr th:only-of-type {\n        vertical-align: middle;\n    }\n\n    .dataframe tbody tr th {\n        vertical-align: top;\n    }\n\n    .dataframe thead th {\n        text-align: right;\n    }\n</style>\n<table border=\"1\" class=\"dataframe\">\n  <thead>\n    <tr style=\"text-align: right;\">\n      <th></th>\n      <th>category</th>\n      <th>customer_type</th>\n      <th>unit_price</th>\n      <th>quantity</th>\n      <th>total</th>\n      <th>payment_type</th>\n      <th>prcnt_stock</th>\n      <th>mean</th>\n      <th>median</th>\n      <th>min</th>\n      <th>max</th>\n      <th>day_of_week</th>\n      <th>is_weekend</th>\n      <th>hour</th>\n      <th>turn</th>\n    </tr>\n  </thead>\n  <tbody>\n    <tr>\n      <th>0</th>\n      <td>fruit</td>\n      <td>gold</td>\n      <td>3.99</td>\n      <td>2</td>\n      <td>7.98</td>\n      <td>e-wallet</td>\n      <td>0.23</td>\n      <td>-1.05</td>\n      <td>-2.24</td>\n      <td>-2.89</td>\n      <td>1.67</td>\n      <td>2</td>\n      <td>no</td>\n      <td>9</td>\n      <td>morning</td>\n    </tr>\n    <tr>\n      <th>1</th>\n      <td>fruit</td>\n      <td>premium</td>\n      <td>1.49</td>\n      <td>1</td>\n      <td>1.49</td>\n      <td>credit card</td>\n      <td>0.54</td>\n      <td>-1.05</td>\n      <td>-2.24</td>\n      <td>-2.89</td>\n      <td>1.67</td>\n      <td>2</td>\n      <td>no</td>\n      <td>9</td>\n      <td>morning</td>\n    </tr>\n    <tr>\n      <th>2</th>\n      <td>fruit</td>\n      <td>non-member</td>\n      <td>4.49</td>\n      <td>4</td>\n      <td>17.96</td>\n      <td>credit card</td>\n      <td>0.71</td>\n      <td>-1.05</td>\n      <td>-2.24</td>\n      <td>-2.89</td>\n      <td>1.67</td>\n      <td>2</td>\n      <td>no</td>\n      <td>9</td>\n      <td>morning</td>\n    </tr>\n    <tr>\n      <th>3</th>\n      <td>refrigerated items</td>\n      <td>gold</td>\n      <td>5.99</td>\n      <td>1</td>\n      <td>5.99</td>\n      <td>credit card</td>\n      <td>0.54</td>\n      <td>-1.05</td>\n      <td>-2.24</td>\n      <td>-2.89</td>\n      <td>1.67</td>\n      <td>2</td>\n      <td>no</td>\n      <td>9</td>\n      <td>morning</td>\n    </tr>\n    <tr>\n      <th>4</th>\n      <td>canned foods</td>\n      <td>gold</td>\n      <td>2.49</td>\n      <td>1</td>\n      <td>2.49</td>\n      <td>e-wallet</td>\n      <td>0.33</td>\n      <td>-1.05</td>\n      <td>-2.24</td>\n      <td>-2.89</td>\n      <td>1.67</td>\n      <td>2</td>\n      <td>no</td>\n      <td>9</td>\n      <td>morning</td>\n    </tr>\n  </tbody>\n</table>\n</div>"
     },
     "execution_count": 3,
     "metadata": {},
     "output_type": "execute_result"
    }
   ],
   "source": [
    "# Checando a tabela\n",
    "dados.head()"
   ],
   "metadata": {
    "collapsed": false,
    "ExecuteTime": {
     "start_time": "2023-04-09T16:16:41.133330Z",
     "end_time": "2023-04-09T16:16:41.224971Z"
    }
   }
  },
  {
   "cell_type": "markdown",
   "source": [
    "### Alterando o tipo das colunas\n",
    "Antes de iniciar os experimentos irei realizar uma pequena mudança nos tipos das colunas."
   ],
   "metadata": {
    "collapsed": false
   }
  },
  {
   "cell_type": "code",
   "execution_count": 10,
   "outputs": [],
   "source": [
    "# Alterando o tipo de dado\n",
    "dados['day_of_week'] = dados.day_of_week.astype('object')\n",
    "dados['customer_type'] = dados.customer_type.astype('category')"
   ],
   "metadata": {
    "collapsed": false,
    "ExecuteTime": {
     "start_time": "2023-04-09T16:25:40.814133Z",
     "end_time": "2023-04-09T16:25:40.848185Z"
    }
   }
  },
  {
   "cell_type": "markdown",
   "source": [
    "## Buscando o melhor algorítmo\n",
    "\n",
    "A partir daqui iniciarei os experimentos. Nesta etapa **NÃO** irei alterar os parâmetros, onde o melhor modelo irá receber tunning em outra rodada de experimentos.\n",
    "\n",
    "Iniciarei os experimentos com os algoritmos **baseados em distância**."
   ],
   "metadata": {
    "collapsed": false
   }
  },
  {
   "cell_type": "code",
   "execution_count": 5,
   "outputs": [],
   "source": [
    "# Define o local para salvar os exoerimentos\n",
    "mlflow.set_tracking_uri('../mlruns')\n",
    "\n",
    "# Criando/acessando o experimento\n",
    "mlflow.set_experiment('Comparando modelos')\n",
    "\n",
    "# Dividindo os dados em variáveis dependentes e independentes\n",
    "x = dados.drop(columns='prcnt_stock')\n",
    "y = dados.prcnt_stock\n",
    "\n",
    "# Dividindo os dados em treino e teste\n",
    "x_treino, x_teste, y_treino, y_teste = train_test_split(x,\n",
    "                                                        y,\n",
    "                                                        test_size=0.25,\n",
    "                                                        random_state=14)\n",
    "\n",
    "# Instanciando os modelos\n",
    "linear_reg = LinearRegression()\n",
    "lasso = Lasso()\n",
    "ridge = Ridge()\n",
    "elastic_nt = ElasticNet()\n",
    "reg_estocastico = SGDRegressor()\n",
    "\n",
    "# Criando listas com os modelo\n",
    "modelos = [linear_reg, lasso, ridge, elastic_nt, reg_estocastico]"
   ],
   "metadata": {
    "collapsed": false,
    "ExecuteTime": {
     "start_time": "2023-04-09T16:16:51.547271Z",
     "end_time": "2023-04-09T16:16:51.580121Z"
    }
   }
  },
  {
   "cell_type": "markdown",
   "source": [
    "### Standard Scaler em todas as variáveis numéricas + One Hot Encoder em todas as categóricas."
   ],
   "metadata": {
    "collapsed": false
   }
  },
  {
   "cell_type": "code",
   "execution_count": 11,
   "outputs": [],
   "source": [
    "# Instanciando os transformadores\n",
    "sc = StandardScaler()\n",
    "ohe = OneHotEncoder(drop='first')\n",
    "\n",
    "# Selecionando os dados por tipo\n",
    "numericas = x_treino.select_dtypes(['int', 'float']).columns\n",
    "categoricas = x_treino.select_dtypes(['object', 'category']).columns\n",
    "\n",
    "# Criando o transformer\n",
    "transformer = ColumnTransformer(transformers=[('scaler', sc, numericas),\n",
    "                                              ('encoder', ohe, categoricas)])\n",
    "\n",
    "# Criando lista com as tags para identificar modelo e preprocessamento usado\n",
    "tags = ['Reg_Linear_SC_OHE', 'Lasso_SC_OHE', 'Ridge_SC_OHE', 'Elastic_Net_SC_OHE', 'Reg_Estocástico_SC_OHE']"
   ],
   "metadata": {
    "collapsed": false,
    "ExecuteTime": {
     "start_time": "2023-04-09T16:25:59.278102Z",
     "end_time": "2023-04-09T16:25:59.293272Z"
    }
   }
  },
  {
   "cell_type": "code",
   "execution_count": 22,
   "outputs": [],
   "source": [
    "# Criando os experimentos\n",
    "registrarexperimento(modelos, tags, transformer, x_treino, y_treino)"
   ],
   "metadata": {
    "collapsed": false,
    "ExecuteTime": {
     "start_time": "2023-04-09T16:36:20.682579Z",
     "end_time": "2023-04-09T16:36:25.537536Z"
    }
   }
  },
  {
   "cell_type": "markdown",
   "source": [
    "### Standard Scaler em todas as variáveis numéricas + One Hot Encoder nas categóricas nominais + Ordinal Encoder nas ordinais"
   ],
   "metadata": {
    "collapsed": false
   }
  },
  {
   "cell_type": "code",
   "execution_count": 18,
   "outputs": [],
   "source": [
    "# Instanciando os transformadores\n",
    "sc = StandardScaler()\n",
    "ohe = OneHotEncoder(drop='first')\n",
    "oe = ce.ordinal.OrdinalEncoder()\n",
    "\n",
    "# Selecionando os dados por tipo\n",
    "numericas = x_treino.select_dtypes(['int', 'float']).columns\n",
    "categoricas = x_treino.select_dtypes('object').columns\n",
    "ordinais = x_treino.select_dtypes('category').columns\n",
    "\n",
    "# Criando o transformer\n",
    "transformer = ColumnTransformer(transformers=[('scaler', sc, numericas),\n",
    "                                              ('encoder_nominal', ohe, categoricas),\n",
    "                                              ('encoder_ordinal', oe, ordinais)])\n",
    "\n",
    "# Criando lista com as tags para identificar modelo e preprocessamento usado\n",
    "tags = ['Reg_Linear_SC_OHE_OE', 'Lasso_SC_OHE_OE', 'Ridge_SC_OHE_OE', 'Elastic_Net_SC_OHE_OE', 'Reg_Estocástico_SC_OHE_OE']"
   ],
   "metadata": {
    "collapsed": false,
    "ExecuteTime": {
     "start_time": "2023-04-09T16:30:10.061556Z",
     "end_time": "2023-04-09T16:30:10.081737Z"
    }
   }
  },
  {
   "cell_type": "code",
   "execution_count": 19,
   "outputs": [],
   "source": [
    "# Criando os experimentos\n",
    "registrarexperimento(modelos, tags, transformer, x_treino, y_treino)"
   ],
   "metadata": {
    "collapsed": false,
    "ExecuteTime": {
     "start_time": "2023-04-09T16:30:13.001729Z",
     "end_time": "2023-04-09T16:30:18.075649Z"
    }
   }
  },
  {
   "cell_type": "markdown",
   "source": [
    "### Standard Scaler nas variáveis numéricas sem outliers + Robust Scaler nas variáveis com outliers + One Hot Encoder em todas as categóricas.\n"
   ],
   "metadata": {
    "collapsed": false
   }
  },
  {
   "cell_type": "code",
   "execution_count": 29,
   "outputs": [],
   "source": [
    "# Criando uma lista vazia\n",
    "col_com_outlier = []\n",
    "\n",
    "# Buscando todas as variáveis numéricas\n",
    "numericas = x_treino.select_dtypes(['int', 'float']).columns\n",
    "\n",
    "# Iterando sobre as colunas numéricas\n",
    "for col in numericas:\n",
    "\n",
    "    # Calculando os quartis e o IQR\n",
    "    q1 = np.quantile(dados[col], 0.25)\n",
    "    q3 = np.quantile(dados[col], 0.75)\n",
    "    iqr = q3 - q1\n",
    "\n",
    "    #Separando os dados sem e com outliers\n",
    "    if dados.query(f\"{col} > {q3 + 1.5 * iqr}\").shape[0] > 0:\n",
    "        col_com_outlier.append(col)"
   ],
   "metadata": {
    "collapsed": false,
    "ExecuteTime": {
     "start_time": "2023-04-09T16:54:08.096637Z",
     "end_time": "2023-04-09T16:54:08.156376Z"
    }
   }
  },
  {
   "cell_type": "code",
   "execution_count": 33,
   "outputs": [],
   "source": [
    "# Instanciando os transformadores\n",
    "sc = StandardScaler()\n",
    "rs = RobustScaler()\n",
    "ohe = OneHotEncoder(drop='first')\n",
    "\n",
    "# Selecionando os dados por tipo\n",
    "num_com_outliers = col_com_outlier\n",
    "num_sem_outliers = [col for col in x_treino.select_dtypes(['int', 'float']).columns if col not in col_com_outlier]\n",
    "categoricas = x_treino.select_dtypes(['object', 'category']).columns\n",
    "\n",
    "# Criando o transformer\n",
    "transformer = ColumnTransformer(transformers=[('scaler', sc, num_sem_outliers),\n",
    "                                              ('scaler_outliers', rs, num_com_outliers),\n",
    "                                              ('encoder_nominal', ohe, categoricas)])\n",
    "\n",
    "# Criando lista com as tags para identificar modelo e preprocessamento usado\n",
    "tags = ['Reg_Linear_SC_RS_OHE', 'Lasso_SC_RS_OHE', 'Ridge_SC_RS_OHE', 'Elastic_Net_SC_RS_OHE', 'Reg_Estocástico_SC_RS_OHE']"
   ],
   "metadata": {
    "collapsed": false,
    "ExecuteTime": {
     "start_time": "2023-04-09T16:58:46.395186Z",
     "end_time": "2023-04-09T16:58:46.442752Z"
    }
   }
  },
  {
   "cell_type": "code",
   "execution_count": null,
   "outputs": [],
   "source": [
    "# Criando os experimentos\n",
    "registrarexperimento(modelos, tags, transformer, x_treino, y_treino)"
   ],
   "metadata": {
    "collapsed": false
   }
  },
  {
   "cell_type": "markdown",
   "source": [
    "### Standard Scaler nas variáveis numéricas sem outliers + Robust Scaler nas variáveis com outliers + One Hot Encoder em nas categóricas nominais + Ordinal Encoder nas ordinais"
   ],
   "metadata": {
    "collapsed": false
   }
  },
  {
   "cell_type": "code",
   "execution_count": null,
   "outputs": [],
   "source": [
    "# Criando uma lista vazia\n",
    "col_com_outlier = []\n",
    "\n",
    "# Buscando todas as variáveis numéricas\n",
    "numericas = x_treino.select_dtypes(['int', 'float']).columns\n",
    "\n",
    "# Iterando sobre as colunas numéricas\n",
    "for col in numericas:\n",
    "\n",
    "    # Calculando os quartis e o IQR\n",
    "    q1 = np.quantile(dados[col], 0.25)\n",
    "    q3 = np.quantile(dados[col], 0.75)\n",
    "    iqr = q3 - q1\n",
    "\n",
    "    #Separando os dados sem e com outliers\n",
    "    if dados.query(f\"{col} > {q3 + 1.5 * iqr}\").shape[0] > 0:\n",
    "        col_com_outlier.append(col)"
   ],
   "metadata": {
    "collapsed": false
   }
  },
  {
   "cell_type": "code",
   "execution_count": null,
   "outputs": [],
   "source": [
    "# Instanciando os transformadores\n",
    "sc = StandardScaler()\n",
    "rs = RobustScaler()\n",
    "ohe = OneHotEncoder(drop='first')\n",
    "oe = ce.ordinal.OrdinalEncoder()\n",
    "\n",
    "# Selecionando os dados por tipo\n",
    "num_com_outliers = col_com_outlier\n",
    "num_sem_outliers = [col for col in x_treino.select_dtypes(['int', 'float']).columns if col not in col_com_outlier]\n",
    "categoricas = x_treino.select_dtypes('object').columns\n",
    "ordinais = x_treino.select_dtypes('category').columns\n",
    "\n",
    "# Criando o transformer\n",
    "transformer = ColumnTransformer(transformers=[('scaler', sc, num_sem_outliers),\n",
    "                                              ('scaler_outliers', rs, num_com_outliers),\n",
    "                                              ('encoder_nominal', ohe, categoricas),\n",
    "                                              ('encoder_ordinal', oe, ordinais)])\n",
    "\n",
    "# Criando lista com as tags para identificar modelo e preprocessamento usado\n",
    "tags = ['Reg_Linear_SC_RS_OHE_OE', 'Lasso_SC_RS_OHE_OE', 'Ridge_SC_RS_OHE_OE', 'Elastic_Net_SC_RS_OHE_OE', 'Reg_Estocástico_SC_RS_OHE_OE']"
   ],
   "metadata": {
    "collapsed": false
   }
  },
  {
   "cell_type": "code",
   "execution_count": null,
   "outputs": [],
   "source": [
    "# Criando os experimentos\n",
    "registrarexperimento(modelos, tags, transformer, x_treino, y_treino)"
   ],
   "metadata": {
    "collapsed": false
   }
  },
  {
   "cell_type": "markdown",
   "source": [
    "### Standard Scaler em todas as variáveis numéricas + One Hot Encoder em todas as categóricas + Isolation Forest para rotular os outliers"
   ],
   "metadata": {
    "collapsed": false
   }
  },
  {
   "cell_type": "code",
   "execution_count": null,
   "outputs": [],
   "source": [
    "# Instanciando os transformadores\n",
    "sc = StandardScaler()\n",
    "ohe = OneHotEncoder(drop='first')\n",
    "\n",
    "# Selecionando os dados por tipo\n",
    "numericas = x_treino.select_dtypes(['int', 'float']).columns\n",
    "categoricas = x_treino.select_dtypes(['object', 'category']).columns\n",
    "\n",
    "# Criando o transformer\n",
    "transformer = ColumnTransformer(transformers=[('scaler', sc, numericas),\n",
    "                                              ('encoder', ohe, categoricas)])\n",
    "\n",
    "# Criando lista com as tags para identificar modelo e preprocessamento usado\n",
    "tags = ['Reg_Linear_SC_OHE_IF', 'Lasso_SC_OHE_IF', 'Ridge_SC_OHE_IF', 'Elastic_Net_SC_OHE_IF', 'Reg_Estocástico_SC_OHE_IF']"
   ],
   "metadata": {
    "collapsed": false
   }
  }
 ],
 "metadata": {
  "kernelspec": {
   "display_name": "Python 3",
   "language": "python",
   "name": "python3"
  },
  "language_info": {
   "codemirror_mode": {
    "name": "ipython",
    "version": 2
   },
   "file_extension": ".py",
   "mimetype": "text/x-python",
   "name": "python",
   "nbconvert_exporter": "python",
   "pygments_lexer": "ipython2",
   "version": "2.7.6"
  }
 },
 "nbformat": 4,
 "nbformat_minor": 0
}
