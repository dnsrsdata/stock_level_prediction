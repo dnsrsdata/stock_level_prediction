{
 "cells": [
  {
   "cell_type": "markdown",
   "metadata": {
    "collapsed": false
   },
   "source": [
    "## Experimentação de modelos\n",
    " Nesta sessão irei realizar uma série de experimentos, combinando diferentes modelos e preprocessamentos. Para registrar tudo isso, irei utilizar o MLFlow.\n",
    "\n",
    "Aqui irei testar modelos baseados em distância e árvore, segue os esboços dos testes a serem realizados:\n",
    "\n",
    "Baseados em distância:\n",
    "- Standard Scaler em todas as variáveis numéricas + One Hot Encoder em todas as categóricas.\n",
    "- Standard Scaler em todas as variáveis numéricas + One Hot Encoder nas categóricas nominais + Ordinal Encoder nas ordinais.\n",
    "- Standard Scaler nas variáveis numéricas sem outliers + Robust Scaler nas variáveis com outliers + One Hot Encoder em todas as categóricas.\n",
    "- Standard Scaler nas variáveis numéricas sem outliers + Robust Scaler nas variáveis com outliers + One Hot Encoder em nas categóricas nominais + Ordinal Encoder nas ordinais.\n",
    "- Standard Scaler em todas as variáveis numéricas + One Hot Encoder em todas as categóricas + Isolation Forest para rotular os outliers.\n",
    "- Standard Scaler em todas as variáveis numéricas + One Hot Encoder nas categóricas nominais + Ordinal Encoder nas ordinais + Isolation Forest para rotular os outliers.\n",
    "- Standard Scaler nas variáveis numéricas sem outliers + Robust Scaler nas variáveis com outliers + One Hot Encoder em todas as categóricas + Isolation Forest para rotular os outliers.\n",
    "- Standard Scaler nas variáveis numéricas sem outliers + Robust Scaler nas variáveis com outliers + One Hot Encoder em nas categóricas nominais + Ordinal Encoder nas ordinais + Isolation Forest para rotular os outliers.\n",
    "\n",
    "\n",
    "Baseados em árvore:\n",
    "- Diferentes tipos de encoders da biblioteca **category encoders**  para as categóricas\n",
    "- Diferentes tipos de encoders da biblioteca **category encoders**  para as categóricas + Isolation Forest para rotular os outliers.\n",
    "Geral:"
   ]
  },
  {
   "cell_type": "code",
   "execution_count": 42,
   "metadata": {
    "ExecuteTime": {
     "end_time": "2023-04-09T17:36:57.729235Z",
     "start_time": "2023-04-09T17:36:57.708927Z"
    },
    "collapsed": false
   },
   "outputs": [],
   "source": [
    "# Importando as bibliotecas\n",
    "\n",
    "import category_encoders as ce\n",
    "import mlflow\n",
    "import numpy as np\n",
    "import pandas as pd\n",
    "\n",
    "# Métodos para criar transformers\n",
    "from sklearn.base import BaseEstimator, TransformerMixin\n",
    "\n",
    "# Pré-processamento\n",
    "from sklearn.model_selection import train_test_split\n",
    "from sklearn.pipeline import Pipeline\n",
    "from sklearn.compose import ColumnTransformer\n",
    "from sklearn.model_selection import cross_val_score\n",
    "from sklearn.preprocessing import OneHotEncoder, StandardScaler, RobustScaler\n",
    "from sklearn.ensemble import IsolationForest\n",
    "\n",
    "# Modelos\n",
    "from sklearn.linear_model import LinearRegression, Lasso, Ridge, ElasticNet, SGDRegressor\n",
    "from sklearn.tree import DecisionTreeRegressor, ExtraTreeRegressor\n",
    "from sklearn.ensemble import RandomForestRegressor\n",
    "\n",
    "# Metricas\n",
    "from sklearn.metrics import mean_squared_error, mean_absolute_error"
   ]
  },
  {
   "cell_type": "code",
   "execution_count": 43,
   "metadata": {
    "collapsed": false
   },
   "outputs": [],
   "source": [
    "class IFInput(BaseEstimator, TransformerMixin):\n",
    "    def __init__(self, column, random_state = None):\n",
    "    \n",
    "        # Salvando o input localmente\n",
    "        self.column = column\n",
    "        self.random_state = random_state\n",
    "    \n",
    "    def fit(self, X, y=None):\n",
    "        \n",
    "        # Calculando os quartis e o IQR\n",
    "        q1 = np.quantile(X[self.column], 0.25)\n",
    "        q3 = np.quantile(X[self.column], 0.75)\n",
    "        iqr = q3 - q1\n",
    "\n",
    "        # Calculando o grau de contaminação\n",
    "        qtd_outliers = X.query(f\"{self.column} > {q3 + 1.5 * iqr}\").shape[0]\n",
    "        qtd_total_registros = X.shape[0]\n",
    "        prcnt_contamination = qtd_outliers/qtd_total_registros\n",
    "        \n",
    "        # Salvando o modelo localmente\n",
    "        self.iso_forest = IsolationForest(contamination=prcnt_contamination,\n",
    "                                          random_state=self.random_state)\n",
    "        \n",
    "        # Fitando os dados\n",
    "        self.iso_forest.fit(X[self.column].values.reshape(-1, 1))\n",
    "        \n",
    "        return self\n",
    "\n",
    "    def transform(self, X, y=None):\n",
    "        \n",
    "        self.label = self.iso_forest.predict(X[self.column].values.reshape(-1, 1))\n",
    "        \n",
    "        # Adiciona os valores ao dataset\n",
    "        X['is_outlier'] = self.label\n",
    "        \n",
    "        return X"
   ]
  },
  {
   "cell_type": "code",
   "execution_count": 44,
   "metadata": {
    "ExecuteTime": {
     "end_time": "2023-04-09T16:39:43.180683Z",
     "start_time": "2023-04-09T16:39:43.157413Z"
    },
    "collapsed": false
   },
   "outputs": [],
   "source": [
    "def registrarexperimento(modelos, tags, transformer, x_treino, y_treino, IF = None):\n",
    "    \"\"\"\n",
    "    Função para registrar experimentos de acordo com modelos, tags e transformadores específicos.\n",
    "    :param modelos: lista contendo os modelos a serem testados\n",
    "    :param tags: lista contendo tags de identificação para cada modelo e transformações aplicadas\n",
    "    :param transformer: transformações que serão aplicadas ao conjunto de treino\n",
    "    :param x_treino: dados contendo as variáveis dependentes\n",
    "    :param y_treino: target\n",
    "    :param IF: algorítmo para detectar outliers\n",
    "    :return: None\n",
    "    \"\"\"\n",
    "    # Iterando com os modelos da lista\n",
    "    for model in modelos:\n",
    "\n",
    "        # Iniciando os experimentos\n",
    "        with mlflow.start_run():\n",
    "\n",
    "            # Colocando uma tag para identificação\n",
    "            index_modelo = modelos.index(model)\n",
    "            mlflow.set_tag('modelo', tags[index_modelo])\n",
    "\n",
    "            if IF != None:\n",
    "            \n",
    "                # Criando o pipeline\n",
    "                pipe = Pipeline([('outlier_detect', IF),\n",
    "                                 ('transformer', transformer),\n",
    "                                 ('regressor', model)])\n",
    "\n",
    "            else:\n",
    "                \n",
    "                # Criando o pipeline\n",
    "                pipe = Pipeline([('transformer', transformer),\n",
    "                                ('regressor', model)])\n",
    "                \n",
    "            # Calculando as métricas com cross-validation\n",
    "            mae_mean = cross_val_score(pipe,\n",
    "                                        x_treino,\n",
    "                                        y_treino,\n",
    "                                        cv=5,\n",
    "                                        scoring='neg_mean_absolute_error').mean() * (-1)\n",
    "\n",
    "            mae_std = cross_val_score(pipe,\n",
    "                                        x_treino,\n",
    "                                        y_treino,\n",
    "                                        cv=5,\n",
    "                                        scoring='neg_mean_absolute_error').std() * (-1)\n",
    "\n",
    "            rmse_mean = cross_val_score(pipe,\n",
    "                                        x_treino,\n",
    "                                        y_treino,\n",
    "                                        cv=5,\n",
    "                                        scoring='neg_root_mean_squared_error').mean() * (-1)\n",
    "\n",
    "            rmse_std = cross_val_score(pipe,\n",
    "                                        x_treino,\n",
    "                                        y_treino,\n",
    "                                        cv=5,\n",
    "                                        scoring='neg_root_mean_squared_error').std() * (-1)\n",
    "\n",
    "            # Salvando as métricas\n",
    "            mlflow.log_metric('mae_mean', mae_mean)\n",
    "            mlflow.log_metric('mae_std', mae_std)\n",
    "            mlflow.log_metric('rmse_mean', rmse_mean)\n",
    "            mlflow.log_metric('rmse_std', rmse_std)\n",
    "\n",
    "    return None"
   ]
  },
  {
   "cell_type": "code",
   "execution_count": 45,
   "metadata": {
    "ExecuteTime": {
     "end_time": "2023-04-09T16:16:39.371903Z",
     "start_time": "2023-04-09T16:16:39.307786Z"
    },
    "collapsed": false
   },
   "outputs": [],
   "source": [
    "# Importando os dados\n",
    "dados = pd.read_csv('../data/interim/dados_para_treino.csv', index_col=0)"
   ]
  },
  {
   "cell_type": "code",
   "execution_count": 46,
   "metadata": {
    "ExecuteTime": {
     "end_time": "2023-04-09T16:16:41.224971Z",
     "start_time": "2023-04-09T16:16:41.133330Z"
    },
    "collapsed": false
   },
   "outputs": [
    {
     "data": {
      "text/html": [
       "<div>\n",
       "<style scoped>\n",
       "    .dataframe tbody tr th:only-of-type {\n",
       "        vertical-align: middle;\n",
       "    }\n",
       "\n",
       "    .dataframe tbody tr th {\n",
       "        vertical-align: top;\n",
       "    }\n",
       "\n",
       "    .dataframe thead th {\n",
       "        text-align: right;\n",
       "    }\n",
       "</style>\n",
       "<table border=\"1\" class=\"dataframe\">\n",
       "  <thead>\n",
       "    <tr style=\"text-align: right;\">\n",
       "      <th></th>\n",
       "      <th>category</th>\n",
       "      <th>customer_type</th>\n",
       "      <th>unit_price</th>\n",
       "      <th>quantity</th>\n",
       "      <th>total</th>\n",
       "      <th>payment_type</th>\n",
       "      <th>lvl_estoque_past</th>\n",
       "      <th>lvl_estoque_to_predict</th>\n",
       "      <th>mean</th>\n",
       "      <th>median</th>\n",
       "      <th>min</th>\n",
       "      <th>max</th>\n",
       "      <th>day_of_week</th>\n",
       "      <th>is_weekend</th>\n",
       "      <th>hour</th>\n",
       "      <th>turn</th>\n",
       "    </tr>\n",
       "  </thead>\n",
       "  <tbody>\n",
       "    <tr>\n",
       "      <th>0</th>\n",
       "      <td>fruit</td>\n",
       "      <td>gold</td>\n",
       "      <td>3.99</td>\n",
       "      <td>2</td>\n",
       "      <td>7.98</td>\n",
       "      <td>e-wallet</td>\n",
       "      <td>0.23</td>\n",
       "      <td>0.37</td>\n",
       "      <td>-1.05</td>\n",
       "      <td>-2.24</td>\n",
       "      <td>-2.89</td>\n",
       "      <td>1.67</td>\n",
       "      <td>2</td>\n",
       "      <td>no</td>\n",
       "      <td>9</td>\n",
       "      <td>morning</td>\n",
       "    </tr>\n",
       "    <tr>\n",
       "      <th>1</th>\n",
       "      <td>fruit</td>\n",
       "      <td>premium</td>\n",
       "      <td>1.49</td>\n",
       "      <td>1</td>\n",
       "      <td>1.49</td>\n",
       "      <td>credit card</td>\n",
       "      <td>0.54</td>\n",
       "      <td>0.33</td>\n",
       "      <td>-1.05</td>\n",
       "      <td>-2.24</td>\n",
       "      <td>-2.89</td>\n",
       "      <td>1.67</td>\n",
       "      <td>2</td>\n",
       "      <td>no</td>\n",
       "      <td>9</td>\n",
       "      <td>morning</td>\n",
       "    </tr>\n",
       "    <tr>\n",
       "      <th>2</th>\n",
       "      <td>fruit</td>\n",
       "      <td>non-member</td>\n",
       "      <td>4.49</td>\n",
       "      <td>4</td>\n",
       "      <td>17.96</td>\n",
       "      <td>credit card</td>\n",
       "      <td>0.71</td>\n",
       "      <td>0.37</td>\n",
       "      <td>-1.05</td>\n",
       "      <td>-2.24</td>\n",
       "      <td>-2.89</td>\n",
       "      <td>1.67</td>\n",
       "      <td>2</td>\n",
       "      <td>no</td>\n",
       "      <td>9</td>\n",
       "      <td>morning</td>\n",
       "    </tr>\n",
       "    <tr>\n",
       "      <th>3</th>\n",
       "      <td>refrigerated items</td>\n",
       "      <td>gold</td>\n",
       "      <td>5.99</td>\n",
       "      <td>1</td>\n",
       "      <td>5.99</td>\n",
       "      <td>credit card</td>\n",
       "      <td>0.54</td>\n",
       "      <td>0.52</td>\n",
       "      <td>-1.05</td>\n",
       "      <td>-2.24</td>\n",
       "      <td>-2.89</td>\n",
       "      <td>1.67</td>\n",
       "      <td>2</td>\n",
       "      <td>no</td>\n",
       "      <td>9</td>\n",
       "      <td>morning</td>\n",
       "    </tr>\n",
       "    <tr>\n",
       "      <th>4</th>\n",
       "      <td>canned foods</td>\n",
       "      <td>gold</td>\n",
       "      <td>2.49</td>\n",
       "      <td>1</td>\n",
       "      <td>2.49</td>\n",
       "      <td>e-wallet</td>\n",
       "      <td>0.33</td>\n",
       "      <td>0.69</td>\n",
       "      <td>-1.05</td>\n",
       "      <td>-2.24</td>\n",
       "      <td>-2.89</td>\n",
       "      <td>1.67</td>\n",
       "      <td>2</td>\n",
       "      <td>no</td>\n",
       "      <td>9</td>\n",
       "      <td>morning</td>\n",
       "    </tr>\n",
       "  </tbody>\n",
       "</table>\n",
       "</div>"
      ],
      "text/plain": [
       "             category customer_type  unit_price  quantity  total payment_type  \\\n",
       "0               fruit          gold        3.99         2   7.98     e-wallet   \n",
       "1               fruit       premium        1.49         1   1.49  credit card   \n",
       "2               fruit    non-member        4.49         4  17.96  credit card   \n",
       "3  refrigerated items          gold        5.99         1   5.99  credit card   \n",
       "4        canned foods          gold        2.49         1   2.49     e-wallet   \n",
       "\n",
       "   lvl_estoque_past  lvl_estoque_to_predict  mean  median   min   max  \\\n",
       "0              0.23                    0.37 -1.05   -2.24 -2.89  1.67   \n",
       "1              0.54                    0.33 -1.05   -2.24 -2.89  1.67   \n",
       "2              0.71                    0.37 -1.05   -2.24 -2.89  1.67   \n",
       "3              0.54                    0.52 -1.05   -2.24 -2.89  1.67   \n",
       "4              0.33                    0.69 -1.05   -2.24 -2.89  1.67   \n",
       "\n",
       "   day_of_week is_weekend  hour     turn  \n",
       "0            2         no     9  morning  \n",
       "1            2         no     9  morning  \n",
       "2            2         no     9  morning  \n",
       "3            2         no     9  morning  \n",
       "4            2         no     9  morning  "
      ]
     },
     "execution_count": 46,
     "metadata": {},
     "output_type": "execute_result"
    }
   ],
   "source": [
    "# Checando a tabela\n",
    "dados.head()"
   ]
  },
  {
   "cell_type": "markdown",
   "metadata": {
    "collapsed": false
   },
   "source": [
    "### Alterando o tipo das colunas\n",
    "Antes de iniciar os experimentos irei realizar uma pequena mudança nos tipos das colunas."
   ]
  },
  {
   "cell_type": "code",
   "execution_count": 47,
   "metadata": {
    "ExecuteTime": {
     "end_time": "2023-04-09T16:25:40.848185Z",
     "start_time": "2023-04-09T16:25:40.814133Z"
    },
    "collapsed": false
   },
   "outputs": [],
   "source": [
    "# Alterando o tipo de dado\n",
    "dados['day_of_week'] = dados.day_of_week.astype('object')\n",
    "dados['customer_type'] = dados.customer_type.astype('category')"
   ]
  },
  {
   "cell_type": "markdown",
   "metadata": {
    "collapsed": false
   },
   "source": [
    "## Buscando o melhor algorítmo\n",
    "\n",
    "A partir daqui iniciarei os experimentos. Nesta etapa **NÃO** irei alterar os parâmetros, onde o melhor modelo irá receber tunning em outra rodada de experimentos.\n",
    "\n",
    "Iniciarei os experimentos com os algoritmos **baseados em distância**."
   ]
  },
  {
   "cell_type": "code",
   "execution_count": 48,
   "metadata": {},
   "outputs": [],
   "source": [
    "# Dropando os dados\n",
    "dados = dados.dropna()"
   ]
  },
  {
   "cell_type": "code",
   "execution_count": 52,
   "metadata": {
    "ExecuteTime": {
     "end_time": "2023-04-09T16:16:51.580121Z",
     "start_time": "2023-04-09T16:16:51.547271Z"
    },
    "collapsed": false
   },
   "outputs": [
    {
     "name": "stderr",
     "output_type": "stream",
     "text": [
      "2023/04/11 15:40:36 INFO mlflow.tracking.fluent: Experiment with name 'Comparando modelos' does not exist. Creating a new experiment.\n"
     ]
    }
   ],
   "source": [
    "# Define o local para salvar os exoerimentos\n",
    "mlflow.set_tracking_uri('mlruns')\n",
    "\n",
    "# Criando/acessando o experimento\n",
    "mlflow.set_experiment('Comparando modelos')\n",
    "\n",
    "# Dividindo os dados em variáveis dependentes e independentes\n",
    "x = dados.drop(columns='lvl_estoque_to_predict')\n",
    "y = dados.lvl_estoque_to_predict\n",
    "\n",
    "# Dividindo os dados em treino e teste\n",
    "x_treino, x_teste, y_treino, y_teste = train_test_split(x,\n",
    "                                                        y,\n",
    "                                                        test_size=0.25,\n",
    "                                                        random_state=14)\n",
    "\n",
    "# Instanciando os modelos\n",
    "linear_reg = LinearRegression()\n",
    "lasso = Lasso()\n",
    "ridge = Ridge()\n",
    "elastic_nt = ElasticNet()\n",
    "reg_estocastico = SGDRegressor()\n",
    "\n",
    "# Criando listas com os modelo\n",
    "modelos = [linear_reg, lasso, ridge, elastic_nt, reg_estocastico]"
   ]
  },
  {
   "cell_type": "markdown",
   "metadata": {
    "collapsed": false
   },
   "source": [
    "### Standard Scaler em todas as variáveis numéricas + One Hot Encoder em todas as categóricas."
   ]
  },
  {
   "cell_type": "code",
   "execution_count": 53,
   "metadata": {
    "ExecuteTime": {
     "end_time": "2023-04-09T16:25:59.293272Z",
     "start_time": "2023-04-09T16:25:59.278102Z"
    },
    "collapsed": false
   },
   "outputs": [],
   "source": [
    "# Instanciando os transformadores\n",
    "sc = StandardScaler()\n",
    "ohe = OneHotEncoder(drop='first')\n",
    "\n",
    "# Selecionando os dados por tipo\n",
    "numericas = x_treino.select_dtypes(['int', 'float']).columns\n",
    "categoricas = x_treino.select_dtypes(['object', 'category']).columns\n",
    "\n",
    "# Criando o transformer\n",
    "transformer = ColumnTransformer(transformers=[('scaler', sc, numericas),\n",
    "                                              ('encoder', ohe, categoricas)])\n",
    "\n",
    "# Criando lista com as tags para identificar modelo e preprocessamento usado\n",
    "tags = ['Reg_Linear_SC_OHE', 'Lasso_SC_OHE', 'Ridge_SC_OHE', 'Elastic_Net_SC_OHE', 'Reg_Estocástico_SC_OHE']"
   ]
  },
  {
   "cell_type": "code",
   "execution_count": 54,
   "metadata": {
    "ExecuteTime": {
     "end_time": "2023-04-09T16:36:25.537536Z",
     "start_time": "2023-04-09T16:36:20.682579Z"
    },
    "collapsed": false
   },
   "outputs": [],
   "source": [
    "# Criando os experimentos\n",
    "registrarexperimento(modelos, tags, transformer, x_treino, y_treino)"
   ]
  },
  {
   "cell_type": "markdown",
   "metadata": {
    "collapsed": false
   },
   "source": [
    "### Standard Scaler em todas as variáveis numéricas + One Hot Encoder nas categóricas nominais + Ordinal Encoder nas ordinais"
   ]
  },
  {
   "cell_type": "code",
   "execution_count": 11,
   "metadata": {
    "ExecuteTime": {
     "end_time": "2023-04-09T16:30:10.081737Z",
     "start_time": "2023-04-09T16:30:10.061556Z"
    },
    "collapsed": false
   },
   "outputs": [],
   "source": [
    "# Instanciando os transformadores\n",
    "sc = StandardScaler()\n",
    "ohe = OneHotEncoder(drop='first')\n",
    "oe = ce.ordinal.OrdinalEncoder()\n",
    "\n",
    "# Selecionando os dados por tipo\n",
    "numericas = x_treino.select_dtypes(['int', 'float']).columns\n",
    "categoricas = x_treino.select_dtypes('object').columns\n",
    "ordinais = x_treino.select_dtypes('category').columns\n",
    "\n",
    "# Criando o transformer\n",
    "transformer = ColumnTransformer(transformers=[('scaler', sc, numericas),\n",
    "                                              ('encoder_nominal', ohe, categoricas),\n",
    "                                              ('encoder_ordinal', oe, ordinais)])\n",
    "\n",
    "# Criando lista com as tags para identificar modelo e preprocessamento usado\n",
    "tags = ['Reg_Linear_SC_OHE_OE', 'Lasso_SC_OHE_OE', 'Ridge_SC_OHE_OE', 'Elastic_Net_SC_OHE_OE', 'Reg_Estocástico_SC_OHE_OE']"
   ]
  },
  {
   "cell_type": "code",
   "execution_count": 12,
   "metadata": {
    "ExecuteTime": {
     "end_time": "2023-04-09T16:30:18.075649Z",
     "start_time": "2023-04-09T16:30:13.001729Z"
    },
    "collapsed": false
   },
   "outputs": [],
   "source": [
    "# Criando os experimentos\n",
    "registrarexperimento(modelos, tags, transformer, x_treino, y_treino)"
   ]
  },
  {
   "cell_type": "markdown",
   "metadata": {
    "collapsed": false
   },
   "source": [
    "### Standard Scaler nas variáveis numéricas sem outliers + Robust Scaler nas variáveis com outliers + One Hot Encoder em todas as categóricas.\n"
   ]
  },
  {
   "cell_type": "code",
   "execution_count": 13,
   "metadata": {
    "ExecuteTime": {
     "end_time": "2023-04-09T16:54:08.156376Z",
     "start_time": "2023-04-09T16:54:08.096637Z"
    },
    "collapsed": false
   },
   "outputs": [],
   "source": [
    "# Criando uma lista vazia\n",
    "col_com_outlier = []\n",
    "\n",
    "# Buscando todas as variáveis numéricas\n",
    "numericas = x_treino.select_dtypes(['int', 'float']).columns\n",
    "\n",
    "# Iterando sobre as colunas numéricas\n",
    "for col in numericas:\n",
    "\n",
    "    # Calculando os quartis e o IQR\n",
    "    q1 = np.quantile(dados[col], 0.25)\n",
    "    q3 = np.quantile(dados[col], 0.75)\n",
    "    iqr = q3 - q1\n",
    "\n",
    "    #Separando os dados sem e com outliers\n",
    "    if dados.query(f\"{col} > {q3 + 1.5 * iqr}\").shape[0] > 0:\n",
    "        col_com_outlier.append(col)"
   ]
  },
  {
   "cell_type": "code",
   "execution_count": 14,
   "metadata": {
    "ExecuteTime": {
     "end_time": "2023-04-09T16:58:46.442752Z",
     "start_time": "2023-04-09T16:58:46.395186Z"
    },
    "collapsed": false
   },
   "outputs": [],
   "source": [
    "# Instanciando os transformadores\n",
    "sc = StandardScaler()\n",
    "rs = RobustScaler()\n",
    "ohe = OneHotEncoder(drop='first')\n",
    "\n",
    "# Selecionando os dados por tipo\n",
    "num_com_outliers = col_com_outlier\n",
    "num_sem_outliers = [col for col in x_treino.select_dtypes(['int', 'float']).columns if col not in col_com_outlier]\n",
    "categoricas = x_treino.select_dtypes(['object', 'category']).columns\n",
    "\n",
    "# Criando o transformer\n",
    "transformer = ColumnTransformer(transformers=[('scaler', sc, num_sem_outliers),\n",
    "                                              ('scaler_outliers', rs, num_com_outliers),\n",
    "                                              ('encoder_nominal', ohe, categoricas)])\n",
    "\n",
    "# Criando lista com as tags para identificar modelo e preprocessamento usado\n",
    "tags = ['Reg_Linear_SC_RS_OHE', 'Lasso_SC_RS_OHE', 'Ridge_SC_RS_OHE', 'Elastic_Net_SC_RS_OHE', 'Reg_Estocástico_SC_RS_OHE']"
   ]
  },
  {
   "cell_type": "code",
   "execution_count": 15,
   "metadata": {
    "collapsed": false
   },
   "outputs": [],
   "source": [
    "# Criando os experimentos\n",
    "registrarexperimento(modelos, tags, transformer, x_treino, y_treino)"
   ]
  },
  {
   "cell_type": "markdown",
   "metadata": {
    "collapsed": false
   },
   "source": [
    "### Standard Scaler nas variáveis numéricas sem outliers + Robust Scaler nas variáveis com outliers + One Hot Encoder em nas categóricas nominais + Ordinal Encoder nas ordinais"
   ]
  },
  {
   "cell_type": "code",
   "execution_count": 16,
   "metadata": {
    "collapsed": false
   },
   "outputs": [],
   "source": [
    "# Criando uma lista vazia\n",
    "col_com_outlier = []\n",
    "\n",
    "# Buscando todas as variáveis numéricas\n",
    "numericas = x_treino.select_dtypes(['int', 'float']).columns\n",
    "\n",
    "# Iterando sobre as colunas numéricas\n",
    "for col in numericas:\n",
    "\n",
    "    # Calculando os quartis e o IQR\n",
    "    q1 = np.quantile(dados[col], 0.25)\n",
    "    q3 = np.quantile(dados[col], 0.75)\n",
    "    iqr = q3 - q1\n",
    "\n",
    "    #Separando os dados sem e com outliers\n",
    "    if dados.query(f\"{col} > {q3 + 1.5 * iqr}\").shape[0] > 0:\n",
    "        col_com_outlier.append(col)"
   ]
  },
  {
   "cell_type": "code",
   "execution_count": 17,
   "metadata": {
    "collapsed": false
   },
   "outputs": [],
   "source": [
    "# Instanciando os transformadores\n",
    "sc = StandardScaler()\n",
    "rs = RobustScaler()\n",
    "ohe = OneHotEncoder(drop='first')\n",
    "oe = ce.ordinal.OrdinalEncoder()\n",
    "\n",
    "# Selecionando os dados por tipo\n",
    "num_com_outliers = col_com_outlier\n",
    "num_sem_outliers = [col for col in x_treino.select_dtypes(['int', 'float']).columns if col not in col_com_outlier]\n",
    "categoricas = x_treino.select_dtypes('object').columns\n",
    "ordinais = x_treino.select_dtypes('category').columns\n",
    "\n",
    "# Criando o transformer\n",
    "transformer = ColumnTransformer(transformers=[('scaler', sc, num_sem_outliers),\n",
    "                                              ('scaler_outliers', rs, num_com_outliers),\n",
    "                                              ('encoder_nominal', ohe, categoricas),\n",
    "                                              ('encoder_ordinal', oe, ordinais)])\n",
    "\n",
    "# Criando lista com as tags para identificar modelo e preprocessamento usado\n",
    "tags = ['Reg_Linear_SC_RS_OHE_OE', 'Lasso_SC_RS_OHE_OE', 'Ridge_SC_RS_OHE_OE', 'Elastic_Net_SC_RS_OHE_OE', 'Reg_Estocástico_SC_RS_OHE_OE']"
   ]
  },
  {
   "cell_type": "code",
   "execution_count": 18,
   "metadata": {
    "collapsed": false
   },
   "outputs": [],
   "source": [
    "# Criando os experimentos\n",
    "registrarexperimento(modelos, tags, transformer, x_treino, y_treino)"
   ]
  },
  {
   "cell_type": "markdown",
   "metadata": {
    "collapsed": false
   },
   "source": [
    "### Standard Scaler em todas as variáveis numéricas + One Hot Encoder em todas as categóricas + Isolation Forest para rotular os outliers"
   ]
  },
  {
   "cell_type": "code",
   "execution_count": 19,
   "metadata": {
    "collapsed": false
   },
   "outputs": [],
   "source": [
    "# Instanciando os transformadores\n",
    "sc = StandardScaler()\n",
    "ohe = OneHotEncoder(drop='first')\n",
    "outdetector = IFInput('total', random_state=47)\n",
    "\n",
    "# Selecionando os dados por tipo\n",
    "numericas = x_treino.select_dtypes(['int', 'float']).drop(columns='total').columns\n",
    "categoricas = x_treino.select_dtypes(['object', 'category']).columns\n",
    "outlier = ['total']\n",
    "\n",
    "# Criando o transformer\n",
    "transformer = ColumnTransformer(transformers=[('encoder', ohe, categoricas),\n",
    "                                              ('scaler', sc, numericas)])\n",
    "\n",
    "# Criando lista com as tags para identificar modelo e preprocessamento usado\n",
    "tags = ['Reg_Linear_SC_OHE_IF', 'Lasso_SC_OHE_IF', 'Ridge_SC_OHE_IF', 'Elastic_Net_SC_OHE_IF', 'Reg_Estocástico_SC_OHE_IF']"
   ]
  },
  {
   "cell_type": "code",
   "execution_count": 20,
   "metadata": {},
   "outputs": [],
   "source": [
    "# Criando os experimentos\n",
    "registrarexperimento(modelos, tags, transformer, x_treino, y_treino, outdetector)"
   ]
  },
  {
   "attachments": {},
   "cell_type": "markdown",
   "metadata": {},
   "source": [
    "### Standard Scaler em todas as variáveis numéricas + One Hot Encoder nas categóricas nominais + Ordinal Encoder nas ordinais + Isolation Forest para rotular os outliers"
   ]
  },
  {
   "cell_type": "code",
   "execution_count": 21,
   "metadata": {},
   "outputs": [],
   "source": [
    "# Instanciando os transformadores\n",
    "sc = StandardScaler()\n",
    "ohe = OneHotEncoder(drop='first')\n",
    "oe = ce.ordinal.OrdinalEncoder()\n",
    "outdetector = IFInput('total', random_state=47)\n",
    "\n",
    "# Selecionando os dados por tipo\n",
    "numericas = x_treino.select_dtypes(['int', 'float']).columns\n",
    "categoricas = x_treino.select_dtypes('object').columns\n",
    "ordinais = x_treino.select_dtypes('category').columns\n",
    "\n",
    "# Criando o transformer\n",
    "transformer = ColumnTransformer(transformers=[('scaler', sc, numericas),\n",
    "                                              ('encoder_nominal', ohe, categoricas),\n",
    "                                              ('encoder_ordinal', oe, ordinais)])\n",
    "\n",
    "# Criando lista com as tags para identificar modelo e preprocessamento usado\n",
    "tags = ['Reg_Linear_SC_OHE_OE_IF', 'Lasso_SC_OHE_OE_IF', 'Ridge_SC_OHE_OE_IF', 'Elastic_Net_SC_OHE_OE_IF', 'Reg_Estocástico_SC_OHE_OE_IF']"
   ]
  },
  {
   "cell_type": "code",
   "execution_count": 22,
   "metadata": {},
   "outputs": [],
   "source": [
    "# Criando os experimentos\n",
    "registrarexperimento(modelos, tags, transformer, x_treino, y_treino, outdetector)"
   ]
  },
  {
   "attachments": {},
   "cell_type": "markdown",
   "metadata": {},
   "source": [
    "### Standard Scaler nas variáveis numéricas sem outliers + Robust Scaler nas variáveis com outliers + One Hot Encoder em todas as categóricas + Isolation Forest para rotular os outliers"
   ]
  },
  {
   "cell_type": "code",
   "execution_count": 23,
   "metadata": {},
   "outputs": [],
   "source": [
    "# Criando uma lista vazia\n",
    "col_com_outlier = []\n",
    "\n",
    "# Buscando todas as variáveis numéricas\n",
    "numericas = x_treino.select_dtypes(['int', 'float']).columns\n",
    "\n",
    "# Iterando sobre as colunas numéricas\n",
    "for col in numericas:\n",
    "\n",
    "    # Calculando os quartis e o IQR\n",
    "    q1 = np.quantile(dados[col], 0.25)\n",
    "    q3 = np.quantile(dados[col], 0.75)\n",
    "    iqr = q3 - q1\n",
    "\n",
    "    #Separando os dados sem e com outliers\n",
    "    if dados.query(f\"{col} > {q3 + 1.5 * iqr}\").shape[0] > 0:\n",
    "        col_com_outlier.append(col)"
   ]
  },
  {
   "cell_type": "code",
   "execution_count": 24,
   "metadata": {},
   "outputs": [],
   "source": [
    "# Instanciando os transformadores\n",
    "sc = StandardScaler()\n",
    "rs = RobustScaler()\n",
    "ohe = OneHotEncoder(drop='first')\n",
    "outdetector = IFInput('total', random_state=47)\n",
    "\n",
    "# Selecionando os dados por tipo\n",
    "num_com_outliers = col_com_outlier\n",
    "num_sem_outliers = [col for col in x_treino.select_dtypes(['int', 'float']).columns if col not in col_com_outlier]\n",
    "categoricas = x_treino.select_dtypes(['object', 'category']).columns\n",
    "\n",
    "# Criando o transformer\n",
    "transformer = ColumnTransformer(transformers=[('scaler', sc, num_sem_outliers),\n",
    "                                              ('scaler_outliers', rs, num_com_outliers),\n",
    "                                              ('encoder_nominal', ohe, categoricas)])\n",
    "\n",
    "# Criando lista com as tags para identificar modelo e preprocessamento usado\n",
    "tags = ['Reg_Linear_SC_RS_OHE_IF', 'Lasso_SC_RS_OHE_IF', 'Ridge_SC_RS_OHE_IF', 'Elastic_Net_SC_RS_OHE_IF', 'Reg_Estocástico_SC_RS_OHE_IF']"
   ]
  },
  {
   "cell_type": "code",
   "execution_count": 25,
   "metadata": {},
   "outputs": [],
   "source": [
    "# Criando os experimentos\n",
    "registrarexperimento(modelos, tags, transformer, x_treino, y_treino, outdetector)"
   ]
  },
  {
   "attachments": {},
   "cell_type": "markdown",
   "metadata": {},
   "source": [
    "### Standard Scaler nas variáveis numéricas sem outliers + Robust Scaler nas variáveis com outliers + One Hot Encoder em nas categóricas nominais + Ordinal Encoder nas ordinais + Isolation Forest para rotular os outliers\n",
    "\n"
   ]
  },
  {
   "cell_type": "code",
   "execution_count": 26,
   "metadata": {},
   "outputs": [],
   "source": [
    "# Criando uma lista vazia\n",
    "col_com_outlier = []\n",
    "\n",
    "# Buscando todas as variáveis numéricas\n",
    "numericas = x_treino.select_dtypes(['int', 'float']).columns\n",
    "\n",
    "# Iterando sobre as colunas numéricas\n",
    "for col in numericas:\n",
    "\n",
    "    # Calculando os quartis e o IQR\n",
    "    q1 = np.quantile(dados[col], 0.25)\n",
    "    q3 = np.quantile(dados[col], 0.75)\n",
    "    iqr = q3 - q1\n",
    "\n",
    "    #Separando os dados sem e com outliers\n",
    "    if dados.query(f\"{col} > {q3 + 1.5 * iqr}\").shape[0] > 0:\n",
    "        col_com_outlier.append(col)"
   ]
  },
  {
   "cell_type": "code",
   "execution_count": 27,
   "metadata": {},
   "outputs": [],
   "source": [
    "# Instanciando os transformadores\n",
    "sc = StandardScaler()\n",
    "rs = RobustScaler()\n",
    "ohe = OneHotEncoder(drop='first')\n",
    "oe = ce.ordinal.OrdinalEncoder()\n",
    "\n",
    "# Selecionando os dados por tipo\n",
    "num_com_outliers = col_com_outlier\n",
    "num_sem_outliers = [col for col in x_treino.select_dtypes(['int', 'float']).columns if col not in col_com_outlier]\n",
    "categoricas = x_treino.select_dtypes('object').columns\n",
    "ordinais = x_treino.select_dtypes('category').columns\n",
    "\n",
    "# Criando o transformer\n",
    "transformer = ColumnTransformer(transformers=[('scaler', sc, num_sem_outliers),\n",
    "                                              ('scaler_outliers', rs, num_com_outliers),\n",
    "                                              ('encoder_nominal', ohe, categoricas),\n",
    "                                              ('encoder_ordinal', oe, ordinais)])\n",
    "\n",
    "# Criando lista com as tags para identificar modelo e preprocessamento usado\n",
    "tags = ['Reg_Linear_SC_RS_OHE_OE_IF', 'Lasso_SC_RS_OHE_OE_IF', 'Ridge_SC_RS_OHE_OE_IF', 'Elastic_Net_SC_RS_OHE_OE_IF', 'Reg_Estocástico_SC_RS_OHE_OE_IF']"
   ]
  },
  {
   "cell_type": "code",
   "execution_count": 28,
   "metadata": {},
   "outputs": [],
   "source": [
    "# Criando os experimentos\n",
    "registrarexperimento(modelos, tags, transformer, x_treino, y_treino, outdetector)"
   ]
  },
  {
   "attachments": {},
   "cell_type": "markdown",
   "metadata": {},
   "source": [
    "A partir desse ponto iniciarei os experimentos com algoritmos **baseados em árvore**. Lembrando que algorítmos desse tipo não necessitam de um scaler, pois não são sensíveis as escalas dos dados. Além disso, aplicar One Hot Encoder não é recomendado, pois essa técnica irá aumentar a cardinalidade dos dados, prejudicando o modelo."
   ]
  },
  {
   "attachments": {},
   "cell_type": "markdown",
   "metadata": {},
   "source": [
    "### Diferentes tipos de encoders da biblioteca category encoders  para as categóricas\n"
   ]
  }
 ],
 "metadata": {
  "kernelspec": {
   "display_name": "Python 3",
   "language": "python",
   "name": "python3"
  },
  "language_info": {
   "codemirror_mode": {
    "name": "ipython",
    "version": 3
   },
   "file_extension": ".py",
   "mimetype": "text/x-python",
   "name": "python",
   "nbconvert_exporter": "python",
   "pygments_lexer": "ipython3",
   "version": "3.9.13"
  }
 },
 "nbformat": 4,
 "nbformat_minor": 0
}
