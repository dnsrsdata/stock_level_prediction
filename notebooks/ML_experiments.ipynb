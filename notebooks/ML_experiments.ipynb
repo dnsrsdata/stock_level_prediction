{
 "cells": [
  {
   "attachments": {},
   "cell_type": "markdown",
   "metadata": {
    "collapsed": false
   },
   "source": [
    "## Experimentação de modelos\n",
    " Nesta sessão irei realizar uma série de experimentos, combinando diferentes modelos e preprocessamentos. Para registrar tudo isso, irei utilizar o MLFlow.\n",
    "\n",
    "Aqui irei testar modelos baseados em distância e árvore, segue os esboços dos testes a serem realizados:\n",
    "\n",
    "Baseados em estatística:\n",
    "- Standard Scaler em todas as variáveis numéricas + One Hot Encoder em todas as categóricas.\n",
    "- Standard Scaler em todas as variáveis numéricas + One Hot Encoder nas categóricas nominais + Ordinal Encoder nas ordinais.\n",
    "- Standard Scaler nas variáveis numéricas sem outliers + Robust Scaler nas variáveis com outliers + One Hot Encoder em todas as categóricas.\n",
    "- Standard Scaler nas variáveis numéricas sem outliers + Robust Scaler nas variáveis com outliers + One Hot Encoder em nas categóricas nominais + Ordinal Encoder nas ordinais.\n",
    "- Standard Scaler em todas as variáveis numéricas + One Hot Encoder em todas as categóricas + Isolation Forest para rotular os outliers.\n",
    "- Standard Scaler em todas as variáveis numéricas + One Hot Encoder nas categóricas nominais + Ordinal Encoder nas ordinais + Isolation Forest para rotular os outliers.\n",
    "- Standard Scaler nas variáveis numéricas sem outliers + Robust Scaler nas variáveis com outliers + One Hot Encoder em todas as categóricas + Isolation Forest para rotular os outliers.\n",
    "- Standard Scaler nas variáveis numéricas sem outliers + Robust Scaler nas variáveis com outliers + One Hot Encoder em nas categóricas nominais + Ordinal Encoder nas ordinais + Isolation Forest para rotular os outliers.\n",
    "\n",
    "\n",
    "Baseados em árvore:\n",
    "- CatBoost Encoder nas categóricas\n",
    "- CatBoost Encoder nas categóricas + Isolation Forest para rotular os outliers."
   ]
  },
  {
   "cell_type": "code",
   "execution_count": 1,
   "metadata": {
    "ExecuteTime": {
     "end_time": "2023-04-09T17:36:57.729235Z",
     "start_time": "2023-04-09T17:36:57.708927Z"
    },
    "collapsed": false
   },
   "outputs": [],
   "source": [
    "# Importando as bibliotecas\n",
    "\n",
    "import category_encoders as ce\n",
    "import joblib\n",
    "import mlflow\n",
    "import matplotlib.pyplot as plt\n",
    "import numpy as np\n",
    "import pandas as pd\n",
    "import seaborn as sns\n",
    "import warnings\n",
    "\n",
    "# Métodos para criar transformers\n",
    "from sklearn.base import BaseEstimator, TransformerMixin\n",
    "\n",
    "# Pré-processamento\n",
    "from sklearn.model_selection import train_test_split\n",
    "from sklearn.pipeline import Pipeline\n",
    "from sklearn.compose import ColumnTransformer\n",
    "from sklearn.model_selection import cross_val_score, GridSearchCV\n",
    "from sklearn.preprocessing import OneHotEncoder, StandardScaler, RobustScaler\n",
    "from sklearn.ensemble import IsolationForest\n",
    "\n",
    "# Modelos\n",
    "from xgboost import XGBRegressor\n",
    "from sklearn.linear_model import LinearRegression, Lasso, Ridge, ElasticNet, SGDRegressor\n",
    "from sklearn.tree import DecisionTreeRegressor, ExtraTreeRegressor\n",
    "from sklearn.ensemble import RandomForestRegressor, GradientBoostingRegressor\n",
    "\n",
    "# Metricas\n",
    "from sklearn.metrics import mean_squared_error, mean_absolute_error\n",
    "\n",
    "# Ignorando as mensagens de erro\n",
    "warnings.filterwarnings('ignore')\n",
    "\n",
    "# Definindo padrão de gráfico\n",
    "sns.set_style('darkgrid')"
   ]
  },
  {
   "cell_type": "code",
   "execution_count": 2,
   "metadata": {
    "collapsed": false
   },
   "outputs": [],
   "source": [
    "class IFInput(BaseEstimator, TransformerMixin):\n",
    "    def __init__(self, column, random_state = None):\n",
    "    \n",
    "        # Salvando o input localmente\n",
    "        self.column = column\n",
    "        self.random_state = random_state\n",
    "    \n",
    "    def fit(self, X, y=None):\n",
    "        \n",
    "        # Calculando os quartis e o IQR\n",
    "        q1 = np.quantile(X[self.column], 0.25)\n",
    "        q3 = np.quantile(X[self.column], 0.75)\n",
    "        iqr = q3 - q1\n",
    "\n",
    "        # Calculando o grau de contaminação\n",
    "        qtd_outliers = X.query(f\"{self.column} > {q3 + 1.5 * iqr}\").shape[0]\n",
    "        qtd_total_registros = X.shape[0]\n",
    "        prcnt_contamination = qtd_outliers/qtd_total_registros\n",
    "        \n",
    "        # Salvando o modelo localmente\n",
    "        self.iso_forest = IsolationForest(contamination=prcnt_contamination,\n",
    "                                          random_state=self.random_state)\n",
    "        \n",
    "        # Fitando os dados\n",
    "        self.iso_forest.fit(X[self.column].values.reshape(-1, 1))\n",
    "        \n",
    "        return self\n",
    "\n",
    "    def transform(self, X, y=None):\n",
    "        \n",
    "        self.label = self.iso_forest.predict(X[self.column].values.reshape(-1, 1))\n",
    "        \n",
    "        # Adiciona os valores ao dataset\n",
    "        X['is_outlier'] = self.label\n",
    "        \n",
    "        return X"
   ]
  },
  {
   "cell_type": "code",
   "execution_count": 3,
   "metadata": {
    "ExecuteTime": {
     "end_time": "2023-04-09T16:39:43.180683Z",
     "start_time": "2023-04-09T16:39:43.157413Z"
    },
    "collapsed": false
   },
   "outputs": [],
   "source": [
    "def registrarexperimento(modelos, tags, transformer, x_treino, y_treino, IF = None):\n",
    "    \"\"\"\n",
    "    Função para registrar experimentos de acordo com modelos, tags e transformadores específicos.\n",
    "    :param modelos: lista contendo os modelos a serem testados\n",
    "    :param tags: lista contendo tags de identificação para cada modelo e transformações aplicadas\n",
    "    :param transformer: transformações que serão aplicadas ao conjunto de treino\n",
    "    :param x_treino: dados contendo as variáveis dependentes\n",
    "    :param y_treino: target\n",
    "    :param IF: algorítmo para detectar outliers\n",
    "    :return: None\n",
    "    \"\"\"\n",
    "    # Iterando com os modelos da lista\n",
    "    for model in modelos:\n",
    "\n",
    "        # Iniciando os experimentos\n",
    "        with mlflow.start_run():\n",
    "\n",
    "            # Colocando uma tag para identificação\n",
    "            index_modelo = modelos.index(model)\n",
    "            mlflow.set_tag('modelo', tags[index_modelo])\n",
    "\n",
    "            if IF != None:\n",
    "            \n",
    "                # Criando o pipeline\n",
    "                pipe = Pipeline([('outlier_detect', IF),\n",
    "                                 ('transformer', transformer),\n",
    "                                 ('regressor', model)])\n",
    "\n",
    "            else:\n",
    "                \n",
    "                # Criando o pipeline\n",
    "                pipe = Pipeline([('transformer', transformer),\n",
    "                                 ('regressor', model)])\n",
    "                \n",
    "            # Calculando as métricas com cross-validation\n",
    "            mae_mean = cross_val_score(pipe,\n",
    "                                        x_treino,\n",
    "                                        y_treino,\n",
    "                                        cv=5,\n",
    "                                        scoring='neg_mean_absolute_error').mean() * (-1)\n",
    "\n",
    "            mae_std = cross_val_score(pipe,\n",
    "                                        x_treino,\n",
    "                                        y_treino,\n",
    "                                        cv=5,\n",
    "                                        scoring='neg_mean_absolute_error').std() * (-1)\n",
    "\n",
    "            rmse_mean = cross_val_score(pipe,\n",
    "                                        x_treino,\n",
    "                                        y_treino,\n",
    "                                        cv=5,\n",
    "                                        scoring='neg_root_mean_squared_error').mean() * (-1)\n",
    "\n",
    "            rmse_std = cross_val_score(pipe,\n",
    "                                        x_treino,\n",
    "                                        y_treino,\n",
    "                                        cv=5,\n",
    "                                        scoring='neg_root_mean_squared_error').std() * (-1)\n",
    "\n",
    "            # Salvando as métricas\n",
    "            mlflow.log_metric('mae_mean', mae_mean)\n",
    "            mlflow.log_metric('mae_std', mae_std)\n",
    "            mlflow.log_metric('rmse_mean', rmse_mean)\n",
    "            mlflow.log_metric('rmse_std', rmse_std)\n",
    "\n",
    "    return None"
   ]
  },
  {
   "cell_type": "code",
   "execution_count": 4,
   "metadata": {
    "ExecuteTime": {
     "end_time": "2023-04-09T16:16:39.371903Z",
     "start_time": "2023-04-09T16:16:39.307786Z"
    },
    "collapsed": false
   },
   "outputs": [],
   "source": [
    "# Importando os dados\n",
    "dados = pd.read_csv('../data/processed/dados_para_treino.csv', index_col=0)"
   ]
  },
  {
   "cell_type": "code",
   "execution_count": 5,
   "metadata": {
    "ExecuteTime": {
     "end_time": "2023-04-09T16:16:41.224971Z",
     "start_time": "2023-04-09T16:16:41.133330Z"
    },
    "collapsed": false
   },
   "outputs": [
    {
     "data": {
      "text/html": [
       "<div>\n",
       "<style scoped>\n",
       "    .dataframe tbody tr th:only-of-type {\n",
       "        vertical-align: middle;\n",
       "    }\n",
       "\n",
       "    .dataframe tbody tr th {\n",
       "        vertical-align: top;\n",
       "    }\n",
       "\n",
       "    .dataframe thead th {\n",
       "        text-align: right;\n",
       "    }\n",
       "</style>\n",
       "<table border=\"1\" class=\"dataframe\">\n",
       "  <thead>\n",
       "    <tr style=\"text-align: right;\">\n",
       "      <th></th>\n",
       "      <th>category</th>\n",
       "      <th>customer_type</th>\n",
       "      <th>unit_price</th>\n",
       "      <th>quantity</th>\n",
       "      <th>total</th>\n",
       "      <th>payment_type</th>\n",
       "      <th>lvl_estoque_past</th>\n",
       "      <th>lvl_estoque_to_predict</th>\n",
       "      <th>mean</th>\n",
       "      <th>median</th>\n",
       "      <th>min</th>\n",
       "      <th>max</th>\n",
       "      <th>std</th>\n",
       "      <th>var</th>\n",
       "      <th>day_of_week</th>\n",
       "      <th>is_weekend</th>\n",
       "      <th>hour</th>\n",
       "      <th>turn</th>\n",
       "    </tr>\n",
       "  </thead>\n",
       "  <tbody>\n",
       "    <tr>\n",
       "      <th>0</th>\n",
       "      <td>fruit</td>\n",
       "      <td>gold</td>\n",
       "      <td>3.99</td>\n",
       "      <td>2</td>\n",
       "      <td>7.98</td>\n",
       "      <td>e-wallet</td>\n",
       "      <td>0.37</td>\n",
       "      <td>0.48</td>\n",
       "      <td>-0.6729</td>\n",
       "      <td>-1.26</td>\n",
       "      <td>-30.58</td>\n",
       "      <td>34.33</td>\n",
       "      <td>11.456305</td>\n",
       "      <td>131.246935</td>\n",
       "      <td>2</td>\n",
       "      <td>no</td>\n",
       "      <td>9</td>\n",
       "      <td>morning</td>\n",
       "    </tr>\n",
       "    <tr>\n",
       "      <th>1</th>\n",
       "      <td>fruit</td>\n",
       "      <td>premium</td>\n",
       "      <td>3.99</td>\n",
       "      <td>3</td>\n",
       "      <td>11.97</td>\n",
       "      <td>credit card</td>\n",
       "      <td>0.37</td>\n",
       "      <td>0.48</td>\n",
       "      <td>-0.6729</td>\n",
       "      <td>-1.26</td>\n",
       "      <td>-30.58</td>\n",
       "      <td>34.33</td>\n",
       "      <td>11.456305</td>\n",
       "      <td>131.246935</td>\n",
       "      <td>2</td>\n",
       "      <td>no</td>\n",
       "      <td>9</td>\n",
       "      <td>morning</td>\n",
       "    </tr>\n",
       "    <tr>\n",
       "      <th>2</th>\n",
       "      <td>fruit</td>\n",
       "      <td>premium</td>\n",
       "      <td>1.49</td>\n",
       "      <td>4</td>\n",
       "      <td>5.96</td>\n",
       "      <td>e-wallet</td>\n",
       "      <td>0.54</td>\n",
       "      <td>0.33</td>\n",
       "      <td>-0.6729</td>\n",
       "      <td>-1.26</td>\n",
       "      <td>-30.58</td>\n",
       "      <td>34.33</td>\n",
       "      <td>11.456305</td>\n",
       "      <td>131.246935</td>\n",
       "      <td>2</td>\n",
       "      <td>no</td>\n",
       "      <td>9</td>\n",
       "      <td>morning</td>\n",
       "    </tr>\n",
       "    <tr>\n",
       "      <th>3</th>\n",
       "      <td>fruit</td>\n",
       "      <td>non-member</td>\n",
       "      <td>3.99</td>\n",
       "      <td>3</td>\n",
       "      <td>11.97</td>\n",
       "      <td>cash</td>\n",
       "      <td>0.51</td>\n",
       "      <td>0.04</td>\n",
       "      <td>-0.6729</td>\n",
       "      <td>-1.26</td>\n",
       "      <td>-30.58</td>\n",
       "      <td>34.33</td>\n",
       "      <td>11.456305</td>\n",
       "      <td>131.246935</td>\n",
       "      <td>2</td>\n",
       "      <td>no</td>\n",
       "      <td>9</td>\n",
       "      <td>morning</td>\n",
       "    </tr>\n",
       "    <tr>\n",
       "      <th>4</th>\n",
       "      <td>fruit</td>\n",
       "      <td>premium</td>\n",
       "      <td>4.49</td>\n",
       "      <td>2</td>\n",
       "      <td>8.98</td>\n",
       "      <td>credit card</td>\n",
       "      <td>0.71</td>\n",
       "      <td>0.98</td>\n",
       "      <td>-0.6729</td>\n",
       "      <td>-1.26</td>\n",
       "      <td>-30.58</td>\n",
       "      <td>34.33</td>\n",
       "      <td>11.456305</td>\n",
       "      <td>131.246935</td>\n",
       "      <td>2</td>\n",
       "      <td>no</td>\n",
       "      <td>9</td>\n",
       "      <td>morning</td>\n",
       "    </tr>\n",
       "  </tbody>\n",
       "</table>\n",
       "</div>"
      ],
      "text/plain": [
       "  category customer_type  unit_price  quantity  total payment_type  \\\n",
       "0    fruit          gold        3.99         2   7.98     e-wallet   \n",
       "1    fruit       premium        3.99         3  11.97  credit card   \n",
       "2    fruit       premium        1.49         4   5.96     e-wallet   \n",
       "3    fruit    non-member        3.99         3  11.97         cash   \n",
       "4    fruit       premium        4.49         2   8.98  credit card   \n",
       "\n",
       "   lvl_estoque_past  lvl_estoque_to_predict    mean  median    min    max  \\\n",
       "0              0.37                    0.48 -0.6729   -1.26 -30.58  34.33   \n",
       "1              0.37                    0.48 -0.6729   -1.26 -30.58  34.33   \n",
       "2              0.54                    0.33 -0.6729   -1.26 -30.58  34.33   \n",
       "3              0.51                    0.04 -0.6729   -1.26 -30.58  34.33   \n",
       "4              0.71                    0.98 -0.6729   -1.26 -30.58  34.33   \n",
       "\n",
       "         std         var  day_of_week is_weekend  hour     turn  \n",
       "0  11.456305  131.246935            2         no     9  morning  \n",
       "1  11.456305  131.246935            2         no     9  morning  \n",
       "2  11.456305  131.246935            2         no     9  morning  \n",
       "3  11.456305  131.246935            2         no     9  morning  \n",
       "4  11.456305  131.246935            2         no     9  morning  "
      ]
     },
     "execution_count": 5,
     "metadata": {},
     "output_type": "execute_result"
    }
   ],
   "source": [
    "# Checando a tabela\n",
    "dados.head()"
   ]
  },
  {
   "cell_type": "markdown",
   "metadata": {
    "collapsed": false
   },
   "source": [
    "### Alterando o tipo das colunas\n",
    "Antes de iniciar os experimentos irei realizar uma pequena mudança nos tipos das colunas."
   ]
  },
  {
   "cell_type": "code",
   "execution_count": 6,
   "metadata": {
    "ExecuteTime": {
     "end_time": "2023-04-09T16:25:40.848185Z",
     "start_time": "2023-04-09T16:25:40.814133Z"
    },
    "collapsed": false
   },
   "outputs": [],
   "source": [
    "# Alterando o tipo de dado\n",
    "dados['day_of_week'] = dados.day_of_week.astype('object')\n",
    "dados['customer_type'] = dados.customer_type.astype('category')"
   ]
  },
  {
   "cell_type": "markdown",
   "metadata": {
    "collapsed": false
   },
   "source": [
    "## Buscando o melhor algorítmo\n",
    "\n",
    "A partir daqui iniciarei os experimentos. Nesta etapa **NÃO** irei alterar os parâmetros, onde o melhor modelo irá receber tunning em outra rodada de experimentos.\n",
    "\n",
    "Iniciarei os experimentos com os algoritmos **baseados em distância**."
   ]
  },
  {
   "cell_type": "code",
   "execution_count": 7,
   "metadata": {
    "ExecuteTime": {
     "end_time": "2023-04-09T16:16:51.580121Z",
     "start_time": "2023-04-09T16:16:51.547271Z"
    },
    "collapsed": false
   },
   "outputs": [],
   "source": [
    "# Define o local para salvar os exoerimentos\n",
    "mlflow.set_tracking_uri('../mlruns')\n",
    "\n",
    "# Criando/acessando o experimento\n",
    "mlflow.set_experiment('Comparando modelos')\n",
    "\n",
    "# Dividindo os dados em variáveis dependentes e independentes\n",
    "x = dados.drop(columns='lvl_estoque_to_predict')\n",
    "y = dados.lvl_estoque_to_predict\n",
    "\n",
    "# Dividindo os dados em treino e teste\n",
    "x_treino, x_teste, y_treino, y_teste = train_test_split(x,\n",
    "                                                        y,\n",
    "                                                        test_size=0.25,\n",
    "                                                        random_state=14)\n",
    "\n",
    "# Dividindo os dados em dev e teste\n",
    "x_dev, x_teste, y_dev, y_teste = train_test_split(x_teste,\n",
    "                                                  y_teste,\n",
    "                                                  test_size=0.50,\n",
    "                                                  random_state=14)\n",
    "\n",
    "# Instanciando os modelos\n",
    "linear_reg = LinearRegression()\n",
    "lasso = Lasso(random_state=47)\n",
    "ridge = Ridge(random_state=47)\n",
    "elastic_nt = ElasticNet(random_state=47)\n",
    "reg_estocastico = SGDRegressor(random_state=47)\n",
    "\n",
    "# Criando listas com os modelo\n",
    "modelos = [linear_reg, lasso, ridge, elastic_nt, reg_estocastico]"
   ]
  },
  {
   "cell_type": "markdown",
   "metadata": {
    "collapsed": false
   },
   "source": [
    "### Standard Scaler em todas as variáveis numéricas + One Hot Encoder em todas as categóricas."
   ]
  },
  {
   "cell_type": "code",
   "execution_count": null,
   "metadata": {
    "ExecuteTime": {
     "end_time": "2023-04-09T16:25:59.293272Z",
     "start_time": "2023-04-09T16:25:59.278102Z"
    },
    "collapsed": false
   },
   "outputs": [],
   "source": [
    "# Instanciando os transformadores\n",
    "sc = StandardScaler()\n",
    "ohe = OneHotEncoder(drop='first')\n",
    "\n",
    "# Selecionando os dados por tipo\n",
    "numericas = x_treino.select_dtypes(['int', 'float']).columns\n",
    "categoricas = x_treino.select_dtypes(['object', 'category']).columns\n",
    "\n",
    "# Criando o transformer\n",
    "transformer = ColumnTransformer(transformers=[('scaler', sc, numericas),\n",
    "                                              ('encoder', ohe, categoricas)])\n",
    "\n",
    "# Criando lista com as tags para identificar modelo e preprocessamento usado\n",
    "tags = ['Reg_Linear_SC_OHE', 'Lasso_SC_OHE', 'Ridge_SC_OHE', 'Elastic_Net_SC_OHE', 'Reg_Estocástico_SC_OHE']"
   ]
  },
  {
   "cell_type": "code",
   "execution_count": null,
   "metadata": {
    "ExecuteTime": {
     "end_time": "2023-04-09T16:36:25.537536Z",
     "start_time": "2023-04-09T16:36:20.682579Z"
    },
    "collapsed": false
   },
   "outputs": [],
   "source": [
    "# Criando os experimentos\n",
    "registrarexperimento(modelos, tags, transformer, x_treino, y_treino)"
   ]
  },
  {
   "cell_type": "markdown",
   "metadata": {
    "collapsed": false
   },
   "source": [
    "### Standard Scaler em todas as variáveis numéricas + One Hot Encoder nas categóricas nominais + Ordinal Encoder nas ordinais"
   ]
  },
  {
   "cell_type": "code",
   "execution_count": null,
   "metadata": {
    "ExecuteTime": {
     "end_time": "2023-04-09T16:30:10.081737Z",
     "start_time": "2023-04-09T16:30:10.061556Z"
    },
    "collapsed": false
   },
   "outputs": [],
   "source": [
    "# Instanciando os transformadores\n",
    "sc = StandardScaler()\n",
    "ohe = OneHotEncoder(drop='first')\n",
    "oe = ce.ordinal.OrdinalEncoder()\n",
    "\n",
    "# Selecionando os dados por tipo\n",
    "numericas = x_treino.select_dtypes(['int', 'float']).columns\n",
    "categoricas = x_treino.select_dtypes('object').columns\n",
    "ordinais = x_treino.select_dtypes('category').columns\n",
    "\n",
    "# Criando o transformer\n",
    "transformer = ColumnTransformer(transformers=[('scaler', sc, numericas),\n",
    "                                              ('encoder_nominal', ohe, categoricas),\n",
    "                                              ('encoder_ordinal', oe, ordinais)])\n",
    "\n",
    "# Criando lista com as tags para identificar modelo e preprocessamento usado\n",
    "tags = ['Reg_Linear_SC_OHE_OE', 'Lasso_SC_OHE_OE', 'Ridge_SC_OHE_OE', 'Elastic_Net_SC_OHE_OE', 'Reg_Estocástico_SC_OHE_OE']"
   ]
  },
  {
   "cell_type": "code",
   "execution_count": null,
   "metadata": {
    "ExecuteTime": {
     "end_time": "2023-04-09T16:30:18.075649Z",
     "start_time": "2023-04-09T16:30:13.001729Z"
    },
    "collapsed": false
   },
   "outputs": [],
   "source": [
    "# Criando os experimentos\n",
    "registrarexperimento(modelos, tags, transformer, x_treino, y_treino)"
   ]
  },
  {
   "cell_type": "markdown",
   "metadata": {
    "collapsed": false
   },
   "source": [
    "### Standard Scaler nas variáveis numéricas sem outliers + Robust Scaler nas variáveis com outliers + One Hot Encoder em todas as categóricas.\n"
   ]
  },
  {
   "cell_type": "code",
   "execution_count": null,
   "metadata": {
    "ExecuteTime": {
     "end_time": "2023-04-09T16:54:08.156376Z",
     "start_time": "2023-04-09T16:54:08.096637Z"
    },
    "collapsed": false
   },
   "outputs": [],
   "source": [
    "# Criando uma lista vazia\n",
    "col_com_outlier = []\n",
    "\n",
    "# Buscando todas as variáveis numéricas\n",
    "numericas = x_treino.select_dtypes(['int', 'float']).columns\n",
    "\n",
    "# Iterando sobre as colunas numéricas\n",
    "for col in numericas:\n",
    "\n",
    "    # Calculando os quartis e o IQR\n",
    "    q1 = np.quantile(dados[col], 0.25)\n",
    "    q3 = np.quantile(dados[col], 0.75)\n",
    "    iqr = q3 - q1\n",
    "\n",
    "    #Separando os dados sem e com outliers\n",
    "    if dados.query(f\"{col} > {q3 + 1.5 * iqr}\").shape[0] > 0:\n",
    "        col_com_outlier.append(col)"
   ]
  },
  {
   "cell_type": "code",
   "execution_count": null,
   "metadata": {
    "ExecuteTime": {
     "end_time": "2023-04-09T16:58:46.442752Z",
     "start_time": "2023-04-09T16:58:46.395186Z"
    },
    "collapsed": false
   },
   "outputs": [],
   "source": [
    "# Instanciando os transformadores\n",
    "sc = StandardScaler()\n",
    "rs = RobustScaler()\n",
    "ohe = OneHotEncoder(drop='first')\n",
    "\n",
    "# Selecionando os dados por tipo\n",
    "num_com_outliers = col_com_outlier\n",
    "num_sem_outliers = [col for col in x_treino.select_dtypes(['int', 'float']).columns if col not in col_com_outlier]\n",
    "categoricas = x_treino.select_dtypes(['object', 'category']).columns\n",
    "\n",
    "# Criando o transformer\n",
    "transformer = ColumnTransformer(transformers=[('scaler', sc, num_sem_outliers),\n",
    "                                              ('scaler_outliers', rs, num_com_outliers),\n",
    "                                              ('encoder_nominal', ohe, categoricas)])\n",
    "\n",
    "# Criando lista com as tags para identificar modelo e preprocessamento usado\n",
    "tags = ['Reg_Linear_SC_RS_OHE', 'Lasso_SC_RS_OHE', 'Ridge_SC_RS_OHE', 'Elastic_Net_SC_RS_OHE', 'Reg_Estocástico_SC_RS_OHE']"
   ]
  },
  {
   "cell_type": "code",
   "execution_count": null,
   "metadata": {
    "collapsed": false
   },
   "outputs": [],
   "source": [
    "# Criando os experimentos\n",
    "registrarexperimento(modelos, tags, transformer, x_treino, y_treino)"
   ]
  },
  {
   "cell_type": "markdown",
   "metadata": {
    "collapsed": false
   },
   "source": [
    "### Standard Scaler nas variáveis numéricas sem outliers + Robust Scaler nas variáveis com outliers + One Hot Encoder em nas categóricas nominais + Ordinal Encoder nas ordinais"
   ]
  },
  {
   "cell_type": "code",
   "execution_count": null,
   "metadata": {
    "collapsed": false
   },
   "outputs": [],
   "source": [
    "# Criando uma lista vazia\n",
    "col_com_outlier = []\n",
    "\n",
    "# Buscando todas as variáveis numéricas\n",
    "numericas = x_treino.select_dtypes(['int', 'float']).columns\n",
    "\n",
    "# Iterando sobre as colunas numéricas\n",
    "for col in numericas:\n",
    "\n",
    "    # Calculando os quartis e o IQR\n",
    "    q1 = np.quantile(dados[col], 0.25)\n",
    "    q3 = np.quantile(dados[col], 0.75)\n",
    "    iqr = q3 - q1\n",
    "\n",
    "    #Separando os dados sem e com outliers\n",
    "    if dados.query(f\"{col} > {q3 + 1.5 * iqr}\").shape[0] > 0:\n",
    "        col_com_outlier.append(col)"
   ]
  },
  {
   "cell_type": "code",
   "execution_count": null,
   "metadata": {
    "collapsed": false
   },
   "outputs": [],
   "source": [
    "# Instanciando os transformadores\n",
    "sc = StandardScaler()\n",
    "rs = RobustScaler()\n",
    "ohe = OneHotEncoder(drop='first')\n",
    "oe = ce.ordinal.OrdinalEncoder()\n",
    "\n",
    "# Selecionando os dados por tipo\n",
    "num_com_outliers = col_com_outlier\n",
    "num_sem_outliers = [col for col in x_treino.select_dtypes(['int', 'float']).columns if col not in col_com_outlier]\n",
    "categoricas = x_treino.select_dtypes('object').columns\n",
    "ordinais = x_treino.select_dtypes('category').columns\n",
    "\n",
    "# Criando o transformer\n",
    "transformer = ColumnTransformer(transformers=[('scaler', sc, num_sem_outliers),\n",
    "                                              ('scaler_outliers', rs, num_com_outliers),\n",
    "                                              ('encoder_nominal', ohe, categoricas),\n",
    "                                              ('encoder_ordinal', oe, ordinais)])\n",
    "\n",
    "# Criando lista com as tags para identificar modelo e preprocessamento usado\n",
    "tags = ['Reg_Linear_SC_RS_OHE_OE', 'Lasso_SC_RS_OHE_OE', 'Ridge_SC_RS_OHE_OE', 'Elastic_Net_SC_RS_OHE_OE', 'Reg_Estocástico_SC_RS_OHE_OE']"
   ]
  },
  {
   "cell_type": "code",
   "execution_count": null,
   "metadata": {
    "collapsed": false
   },
   "outputs": [],
   "source": [
    "# Criando os experimentos\n",
    "registrarexperimento(modelos, tags, transformer, x_treino, y_treino)"
   ]
  },
  {
   "cell_type": "markdown",
   "metadata": {
    "collapsed": false
   },
   "source": [
    "### Standard Scaler em todas as variáveis numéricas + One Hot Encoder em todas as categóricas + Isolation Forest para rotular os outliers"
   ]
  },
  {
   "cell_type": "code",
   "execution_count": null,
   "metadata": {
    "collapsed": false
   },
   "outputs": [],
   "source": [
    "# Instanciando os transformadores\n",
    "sc = StandardScaler()\n",
    "ohe = OneHotEncoder(drop='first')\n",
    "outdetector = IFInput('total', random_state=47)\n",
    "\n",
    "# Selecionando os dados por tipo\n",
    "numericas = x_treino.select_dtypes(['int', 'float']).drop(columns='total').columns\n",
    "categoricas = x_treino.select_dtypes(['object', 'category']).columns\n",
    "outlier = ['total']\n",
    "\n",
    "# Criando o transformer\n",
    "transformer = ColumnTransformer(transformers=[('encoder', ohe, categoricas),\n",
    "                                              ('scaler', sc, numericas)])\n",
    "\n",
    "# Criando lista com as tags para identificar modelo e preprocessamento usado\n",
    "tags = ['Reg_Linear_SC_OHE_IF', 'Lasso_SC_OHE_IF', 'Ridge_SC_OHE_IF', 'Elastic_Net_SC_OHE_IF', 'Reg_Estocástico_SC_OHE_IF']"
   ]
  },
  {
   "cell_type": "code",
   "execution_count": null,
   "metadata": {},
   "outputs": [],
   "source": [
    "# Criando os experimentos\n",
    "registrarexperimento(modelos, tags, transformer, x_treino, y_treino, outdetector)"
   ]
  },
  {
   "attachments": {},
   "cell_type": "markdown",
   "metadata": {},
   "source": [
    "### Standard Scaler em todas as variáveis numéricas + One Hot Encoder nas categóricas nominais + Ordinal Encoder nas ordinais + Isolation Forest para rotular os outliers"
   ]
  },
  {
   "cell_type": "code",
   "execution_count": null,
   "metadata": {},
   "outputs": [],
   "source": [
    "# Instanciando os transformadores\n",
    "sc = StandardScaler()\n",
    "ohe = OneHotEncoder(drop='first')\n",
    "oe = ce.ordinal.OrdinalEncoder()\n",
    "outdetector = IFInput('total', random_state=47)\n",
    "\n",
    "# Selecionando os dados por tipo\n",
    "numericas = x_treino.select_dtypes(['int', 'float']).columns\n",
    "categoricas = x_treino.select_dtypes('object').columns\n",
    "ordinais = x_treino.select_dtypes('category').columns\n",
    "\n",
    "# Criando o transformer\n",
    "transformer = ColumnTransformer(transformers=[('scaler', sc, numericas),\n",
    "                                              ('encoder_nominal', ohe, categoricas),\n",
    "                                              ('encoder_ordinal', oe, ordinais)])\n",
    "\n",
    "# Criando lista com as tags para identificar modelo e preprocessamento usado\n",
    "tags = ['Reg_Linear_SC_OHE_OE_IF', 'Lasso_SC_OHE_OE_IF', 'Ridge_SC_OHE_OE_IF', 'Elastic_Net_SC_OHE_OE_IF', 'Reg_Estocástico_SC_OHE_OE_IF']"
   ]
  },
  {
   "cell_type": "code",
   "execution_count": null,
   "metadata": {},
   "outputs": [],
   "source": [
    "# Criando os experimentos\n",
    "registrarexperimento(modelos, tags, transformer, x_treino, y_treino, outdetector)"
   ]
  },
  {
   "attachments": {},
   "cell_type": "markdown",
   "metadata": {},
   "source": [
    "### Standard Scaler nas variáveis numéricas sem outliers + Robust Scaler nas variáveis com outliers + One Hot Encoder em todas as categóricas + Isolation Forest para rotular os outliers"
   ]
  },
  {
   "cell_type": "code",
   "execution_count": null,
   "metadata": {},
   "outputs": [],
   "source": [
    "# Criando uma lista vazia\n",
    "col_com_outlier = []\n",
    "\n",
    "# Buscando todas as variáveis numéricas\n",
    "numericas = x_treino.select_dtypes(['int', 'float']).columns\n",
    "\n",
    "# Iterando sobre as colunas numéricas\n",
    "for col in numericas:\n",
    "\n",
    "    # Calculando os quartis e o IQR\n",
    "    q1 = np.quantile(dados[col], 0.25)\n",
    "    q3 = np.quantile(dados[col], 0.75)\n",
    "    iqr = q3 - q1\n",
    "\n",
    "    #Separando os dados sem e com outliers\n",
    "    if dados.query(f\"{col} > {q3 + 1.5 * iqr}\").shape[0] > 0:\n",
    "        col_com_outlier.append(col)"
   ]
  },
  {
   "cell_type": "code",
   "execution_count": null,
   "metadata": {},
   "outputs": [],
   "source": [
    "# Instanciando os transformadores\n",
    "sc = StandardScaler()\n",
    "rs = RobustScaler()\n",
    "ohe = OneHotEncoder(drop='first')\n",
    "outdetector = IFInput('total', random_state=47)\n",
    "\n",
    "# Selecionando os dados por tipo\n",
    "num_com_outliers = col_com_outlier\n",
    "num_sem_outliers = [col for col in x_treino.select_dtypes(['int', 'float']).columns if col not in col_com_outlier]\n",
    "categoricas = x_treino.select_dtypes(['object', 'category']).columns\n",
    "\n",
    "# Criando o transformer\n",
    "transformer = ColumnTransformer(transformers=[('scaler', sc, num_sem_outliers),\n",
    "                                              ('scaler_outliers', rs, num_com_outliers),\n",
    "                                              ('encoder_nominal', ohe, categoricas)])\n",
    "\n",
    "# Criando lista com as tags para identificar modelo e preprocessamento usado\n",
    "tags = ['Reg_Linear_SC_RS_OHE_IF', 'Lasso_SC_RS_OHE_IF', 'Ridge_SC_RS_OHE_IF', 'Elastic_Net_SC_RS_OHE_IF', 'Reg_Estocástico_SC_RS_OHE_IF']"
   ]
  },
  {
   "cell_type": "code",
   "execution_count": null,
   "metadata": {},
   "outputs": [],
   "source": [
    "# Criando os experimentos\n",
    "registrarexperimento(modelos, tags, transformer, x_treino, y_treino, outdetector)"
   ]
  },
  {
   "attachments": {},
   "cell_type": "markdown",
   "metadata": {},
   "source": [
    "### Standard Scaler nas variáveis numéricas sem outliers + Robust Scaler nas variáveis com outliers + One Hot Encoder em nas categóricas nominais + Ordinal Encoder nas ordinais + Isolation Forest para rotular os outliers\n",
    "\n"
   ]
  },
  {
   "cell_type": "code",
   "execution_count": null,
   "metadata": {},
   "outputs": [],
   "source": [
    "# Criando uma lista vazia\n",
    "col_com_outlier = []\n",
    "\n",
    "# Buscando todas as variáveis numéricas\n",
    "numericas = x_treino.select_dtypes(['int', 'float']).columns\n",
    "\n",
    "# Iterando sobre as colunas numéricas\n",
    "for col in numericas:\n",
    "\n",
    "    # Calculando os quartis e o IQR\n",
    "    q1 = np.quantile(dados[col], 0.25)\n",
    "    q3 = np.quantile(dados[col], 0.75)\n",
    "    iqr = q3 - q1\n",
    "\n",
    "    #Separando os dados sem e com outliers\n",
    "    if dados.query(f\"{col} > {q3 + 1.5 * iqr}\").shape[0] > 0:\n",
    "        col_com_outlier.append(col)"
   ]
  },
  {
   "cell_type": "code",
   "execution_count": null,
   "metadata": {},
   "outputs": [],
   "source": [
    "# Instanciando os transformadores\n",
    "sc = StandardScaler()\n",
    "rs = RobustScaler()\n",
    "ohe = OneHotEncoder(drop='first')\n",
    "oe = ce.ordinal.OrdinalEncoder()\n",
    "outdetector = IFInput('total', random_state=47)\n",
    "\n",
    "# Selecionando os dados por tipo\n",
    "num_com_outliers = col_com_outlier\n",
    "num_sem_outliers = [col for col in x_treino.select_dtypes(['int', 'float']).columns if col not in col_com_outlier]\n",
    "categoricas = x_treino.select_dtypes('object').columns\n",
    "ordinais = x_treino.select_dtypes('category').columns\n",
    "\n",
    "# Criando o transformer\n",
    "transformer = ColumnTransformer(transformers=[('scaler', sc, num_sem_outliers),\n",
    "                                              ('scaler_outliers', rs, num_com_outliers),\n",
    "                                              ('encoder_nominal', ohe, categoricas),\n",
    "                                              ('encoder_ordinal', oe, ordinais)])\n",
    "\n",
    "# Criando lista com as tags para identificar modelo e preprocessamento usado\n",
    "tags = ['Reg_Linear_SC_RS_OHE_OE_IF', 'Lasso_SC_RS_OHE_OE_IF', 'Ridge_SC_RS_OHE_OE_IF', 'Elastic_Net_SC_RS_OHE_OE_IF', 'Reg_Estocástico_SC_RS_OHE_OE_IF']"
   ]
  },
  {
   "cell_type": "code",
   "execution_count": null,
   "metadata": {},
   "outputs": [],
   "source": [
    "# Criando os experimentos\n",
    "registrarexperimento(modelos, tags, transformer, x_treino, y_treino, outdetector)"
   ]
  },
  {
   "attachments": {},
   "cell_type": "markdown",
   "metadata": {},
   "source": [
    "A partir desse ponto iniciarei os experimentos com algoritmos **baseados em árvore**. Lembrando que algorítmos desse tipo não necessitam de um scaler, pois não são sensíveis as escalas dos dados. Além disso, aplicar One Hot Encoder não é recomendado, pois essa técnica irá aumentar a cardinalidade dos dados, prejudicando o modelo."
   ]
  },
  {
   "cell_type": "code",
   "execution_count": null,
   "metadata": {},
   "outputs": [],
   "source": [
    "# Instanciando os modelos\n",
    "tree_reg = DecisionTreeRegressor(random_state=47)\n",
    "xtree_reg = ExtraTreeRegressor(random_state=47)\n",
    "rf_reg = RandomForestRegressor(random_state=47)\n",
    "gb_reg = GradientBoostingRegressor(random_state=47)\n",
    "xgb_reg = XGBRegressor(random_state=47)\n",
    "\n",
    "# Criando listas com os modelo\n",
    "modelos = [tree_reg, xtree_reg, rf_reg, gb_reg, xgb_reg]"
   ]
  },
  {
   "attachments": {},
   "cell_type": "markdown",
   "metadata": {},
   "source": [
    "### CatBoost Encoder nas categóricas\n"
   ]
  },
  {
   "cell_type": "code",
   "execution_count": null,
   "metadata": {},
   "outputs": [],
   "source": [
    "# Instanciando os transformadores\n",
    "cbenc = ce.CatBoostEncoder()\n",
    "\n",
    "# Selecionando os dados por tipo\n",
    "categoricas = x_treino.select_dtypes(['object', 'category']).columns\n",
    "\n",
    "# Criando o transformer\n",
    "transformer = ColumnTransformer(transformers=[('encoder', cbenc, categoricas)])\n",
    "\n",
    "# Criando lista com as tags para identificar modelo e preprocessamento usado\n",
    "tags = ['DTree_reg_CtbEnc', 'XTree_reg_CtbEnc', 'RDF_reg_CtbEnc', 'GB_reg_CtbEnc', 'XGb_reg__CtbEnc']"
   ]
  },
  {
   "cell_type": "code",
   "execution_count": null,
   "metadata": {},
   "outputs": [],
   "source": [
    "# Criando os experimentos\n",
    "registrarexperimento(modelos, tags, transformer, x_treino, y_treino)"
   ]
  },
  {
   "attachments": {},
   "cell_type": "markdown",
   "metadata": {},
   "source": [
    "### CatBoost Encoder nas categóricas + Isolation Forest para rotular os outliers"
   ]
  },
  {
   "cell_type": "code",
   "execution_count": null,
   "metadata": {},
   "outputs": [],
   "source": [
    "# Instanciando os transformadores\n",
    "outdetector = IFInput('total', random_state=47)\n",
    "cbenc = ce.CatBoostEncoder()\n",
    "\n",
    "# Selecionando os dados por tipo\n",
    "categoricas = x_treino.select_dtypes(['object', 'category']).columns\n",
    "\n",
    "# Criando o transformer\n",
    "transformer = ColumnTransformer(transformers=[('encoder', cbenc, categoricas)])\n",
    "\n",
    "# Criando lista com as tags para identificar modelo e preprocessamento usado\n",
    "tags = ['DTree_reg_CtbEnc', 'XTree_reg_CtbEnc', 'RDF_reg_CtbEnc', 'GB_reg_CtbEnc', 'XGb_reg__CtbEnc']"
   ]
  },
  {
   "cell_type": "code",
   "execution_count": null,
   "metadata": {},
   "outputs": [],
   "source": [
    "# Criando os experimentos\n",
    "registrarexperimento(modelos, tags, transformer, x_treino, y_treino, outdetector)"
   ]
  },
  {
   "attachments": {},
   "cell_type": "markdown",
   "metadata": {},
   "source": [
    "### Conclusão da primeira rodada de experimentos\n",
    "Nesta fase, é possível digitar ```mlflow ui ``` no terminal e verificar o resultado dos experimentos pela interfacxe gráfica do MLFlow. Embora seja possível, irei buscar os resultados e salva-los em um Dataframe.\n",
    "\n",
    "Após isso, irei ordenar os resultados pelo valor médio do **MAE**, **RMSE** e **tempo de treinamento**."
   ]
  },
  {
   "cell_type": "code",
   "execution_count": null,
   "metadata": {},
   "outputs": [],
   "source": [
    "# Salvando os resultados em uma variável \n",
    "resultados_experimentos = mlflow.search_runs()"
   ]
  },
  {
   "cell_type": "code",
   "execution_count": null,
   "metadata": {},
   "outputs": [],
   "source": [
    "# Calculando o tempo necessário de treinamento\n",
    "resultados_experimentos['tempo'] = resultados_experimentos.end_time - resultados_experimentos.start_time"
   ]
  },
  {
   "cell_type": "code",
   "execution_count": null,
   "metadata": {},
   "outputs": [],
   "source": [
    "# Ordenando o resultado e criando uma lista com colunas de interesse\n",
    "resultados_ordenados = resultados_experimentos.sort_values(['metrics.mae_mean', 'metrics.rmse_mean', 'tempo'])\n",
    "cols_interesse = ['metrics.rmse_mean', 'metrics.mae_mean', 'metrics.mae_std', 'metrics.rmse_std', 'tags.modelo', 'tempo']"
   ]
  },
  {
   "cell_type": "code",
   "execution_count": null,
   "metadata": {},
   "outputs": [],
   "source": [
    "# Salvando o resultado\n",
    "resultados_ordenados.to_csv('../metrics/experiments/resultados.csv') "
   ]
  },
  {
   "cell_type": "code",
   "execution_count": null,
   "metadata": {},
   "outputs": [],
   "source": [
    "# Mostrando o resultado\n",
    "resultados_ordenados.loc[:, cols_interesse]"
   ]
  },
  {
   "attachments": {},
   "cell_type": "markdown",
   "metadata": {},
   "source": [
    "E temos o nosso modelo campeão: Ridge com Standard Scaler nas numéricas e One Hot Encoding nas categóricas. Apesar de métricas iguais entre os experimentos com o algorítmo desse tipo, o que ficou em primeiro lugar possui o menor tempo de treinamento, motivando a decisão de declara-lo o melhor.\n",
    "\n",
    "Perceba que as métricas MAE e RMSE estão próximas e o desvio padrão entre as folders do Cross Validation está bem baixa, indicando que as previsões estão constantes, sem aquelas previsões \"outliers\" que destoam das outras que o modelo realizou."
   ]
  },
  {
   "attachments": {},
   "cell_type": "markdown",
   "metadata": {},
   "source": [
    "### Tunning\n",
    "Agora irei retreinar o modelo com os dados de **treino** e usar o conjunto de **dev** para buscar os melhores parâmetros. Primeiro irei criar algumas combinações manualmente, salvando o **MAE** e **RMSE**. Após isso, irei usar a interface gráfica do MLFlow e verificar qual tipo de combinação está levando o modelo a um melhor desempenho, criando um pequeno GridSearch logo depois, usando parâmetros que façam sentido e não aleatórios."
   ]
  },
  {
   "cell_type": "code",
   "execution_count": null,
   "metadata": {},
   "outputs": [],
   "source": [
    "# Criando/acessando o experimento\n",
    "mlflow.set_experiment('Tunning melhor modelo')\n",
    "\n",
    "# Instanciando os transformadores\n",
    "sc = StandardScaler()\n",
    "ohe = OneHotEncoder(drop='first')\n",
    "\n",
    "# Selecionando os dados por tipo\n",
    "numericas = x_treino.select_dtypes(['int', 'float']).columns\n",
    "categoricas = x_treino.select_dtypes(['object', 'category']).columns\n",
    "\n",
    "# Criando o transformer\n",
    "transformer = ColumnTransformer(transformers=[('scaler', sc, numericas),\n",
    "                                              ('encoder', ohe, categoricas)])\n",
    "\n",
    "\n",
    "# Criando combinações para os parâmetros alpha e n_iter\n",
    "parametros = [[7500, 100, 47],\n",
    "              [7500, 500, 47],\n",
    "              [7500, 1000, 47],\n",
    "              [7500, 3000, 47],\n",
    "              [7500, 6000, 47],\n",
    "              [7500, 12000, 47],\n",
    "              [3000, 100, 47],\n",
    "              [3000, 500, 47],\n",
    "              [3000, 1000, 47],\n",
    "              [3000, 3000, 47],\n",
    "              [3000, 6000, 47],\n",
    "              [3000, 12000, 47],\n",
    "              [1280, 100, 47],\n",
    "              [1280, 500, 47],\n",
    "              [1280, 1000, 47],\n",
    "              [1280, 3000, 47],\n",
    "              [1280, 6000, 47],\n",
    "              [1280, 12000, 47],\n",
    "              [640, 100, 47],\n",
    "              [640, 500, 47],\n",
    "              [640, 1000, 47],\n",
    "              [640, 3000, 47],\n",
    "              [640, 6000, 47],\n",
    "              [640, 12000, 47],\n",
    "              [320, 100, 47],\n",
    "              [320, 500, 47],\n",
    "              [320, 1000, 47],\n",
    "              [320, 3000, 47],\n",
    "              [320, 6000, 47],\n",
    "              [320, 12000, 47],\n",
    "              [160, 100, 47],\n",
    "              [160, 500, 47],\n",
    "              [160, 1000, 47],\n",
    "              [160, 3000, 47],\n",
    "              [160, 6000, 47],\n",
    "              [160, 12000, 47],\n",
    "              [80, 100, 47],\n",
    "              [80, 500, 47],\n",
    "              [80, 1000, 47],\n",
    "              [80, 3000, 47],\n",
    "              [80, 6000, 47],\n",
    "              [80, 12000, 47],\n",
    "              [40, 100, 47],\n",
    "              [40, 500, 47],\n",
    "              [40, 1000, 47],\n",
    "              [40, 3000, 47],\n",
    "              [40, 6000, 47],\n",
    "              [40, 12000, 47],\n",
    "              [25, 100, 47],\n",
    "              [25, 500, 47],\n",
    "              [25, 1000, 47],\n",
    "              [25, 3000, 47],\n",
    "              [25, 6000, 47],\n",
    "              [25, 12000, 47],\n",
    "              [10, 100, 47],\n",
    "              [10, 500, 47],\n",
    "              [10, 1000, 47],\n",
    "              [10, 3000, 47],\n",
    "              [10, 6000, 47],\n",
    "              [10, 12000, 47],\n",
    "              [5, 100, 47],\n",
    "              [5, 500, 47],\n",
    "              [5, 1000, 47],\n",
    "              [5, 3000, 47],\n",
    "              [5, 6000, 47],\n",
    "              [5, 12000, 47],\n",
    "              [1, 100, 47],\n",
    "              [1, 500, 47],\n",
    "              [1, 1000, 47],\n",
    "              [1, 3000, 47],\n",
    "              [1, 6000, 47],\n",
    "              [1, 12000, 47],\n",
    "              [0.1, 100, 47],\n",
    "              [0.1, 500, 47],\n",
    "              [0.1, 1000, 47],\n",
    "              [0.1, 3000, 47],\n",
    "              [0.1, 6000, 47],\n",
    "              [0.1, 12000, 47],\n",
    "              [0.01, 100, 47],\n",
    "              [0.01, 500, 47],\n",
    "              [0.01, 1000, 47],\n",
    "              [0.01, 3000, 47],\n",
    "              [0.01, 6000, 47],\n",
    "              [0.01, 12000, 47],\n",
    "              [0.001, 100, 47],\n",
    "              [0.001, 500, 47],\n",
    "              [0.001, 1000, 47],\n",
    "              [0.001, 3000, 47],\n",
    "              [0.001, 6000, 47],\n",
    "              [0.001, 12000, 47],\n",
    "              [0.0001, 100, 47],\n",
    "              [0.0001, 500, 47],\n",
    "              [0.0001, 1000, 47],\n",
    "              [0.0001, 3000, 47],\n",
    "              [0.0001, 6000, 47],\n",
    "              [0.0001, 12000, 47]]\n",
    "\n"
   ]
  },
  {
   "cell_type": "code",
   "execution_count": null,
   "metadata": {},
   "outputs": [],
   "source": [
    "# Criando um loop para iniciar os experimentos\n",
    "for num in range(len(parametros)):\n",
    "   \n",
    "   # Buscando os parâmetros\n",
    "   alpha = parametros[num][0]\n",
    "   num_iters = parametros[num][1]\n",
    "   rs = parametros[num][2]\n",
    "   \n",
    "   # Iniciando os experimentos\n",
    "   with mlflow.start_run():\n",
    "      \n",
    "      # Criando o pipeline\n",
    "      pipe = Pipeline([('transformer', transformer),\n",
    "                       ('modelo', Ridge(alpha=alpha, max_iter=num_iters, random_state=rs))])\n",
    "      \n",
    "      # Treinando o modelo\n",
    "      pipe.fit(x_treino, y_treino)\n",
    "      \n",
    "      # Fazendo predições\n",
    "      y_dev_pred = pipe.predict(x_dev)\n",
    "      \n",
    "      # Calculando as métricas\n",
    "      mae = mean_absolute_error(y_dev, y_dev_pred)\n",
    "      rmse = mean_squared_error(y_dev, y_dev_pred, squared=False)\n",
    "    \n",
    "      # Salvando as métricas e os parâmetros\n",
    "      mlflow.log_metric('mae', mae)\n",
    "      mlflow.log_metric('rmse', rmse)\n",
    "      mlflow.log_param('alpha', alpha)\n",
    "      mlflow.log_param('max_iter', num_iters)\n",
    "      mlflow.log_param('random_state', rs)"
   ]
  },
  {
   "cell_type": "code",
   "execution_count": null,
   "metadata": {},
   "outputs": [],
   "source": [
    "# Salvando os resultados em uma variável \n",
    "resultados_experimentos = mlflow.search_runs()\n",
    "\n",
    "# Salvando o resultado\n",
    "resultados_experimentos.to_csv('../metrics/experiments_tunning/resultados.csv') "
   ]
  },
  {
   "attachments": {},
   "cell_type": "markdown",
   "metadata": {},
   "source": [
    "Ao final dos experimentos, temos o seguinte gráfico:\n",
    "\n",
    "![metrics](../images/plots/metricas.png)\n",
    "\n",
    "Ao início parece um pouco confuso, mas analisando mais de perto, podemos tirar insights interessantes.\n",
    "\n",
    "Vejamos como o modelo que teve os melhores resultados se saiu:\n",
    "\n",
    "![metrics_best](../images/plots/melhor_metrica.png)\n",
    "<br>\n",
    "Vamos aos insights:\n",
    "- Embora não apareça no gráfico, o valor de **alpha** é de 640.\n",
    "- Independente do valor do parâmetro **max_iters**, o resultado é o mesmo nos 6 modelos treinados com o **alpha** de 640.\n",
    "\n",
    "Vale lembrar que termos valores abaixo e acima de 640 que foram testados, agora vamos observar o segundo melhor modelo para obtermos mais insights:\n",
    "\n",
    "![metrics_second_best](../images/plots/segunda_melhor_metrica.png)\n",
    "Vamos aos insights:\n",
    "- Embora não apareça no gráfico, o valor de **alpha** é de 1280.\n",
    "- Independente do valor do parâmetro **max_iters**, o resultado é o mesmo nos 6 modelos treinados com o **alpha** de 1280.\n",
    "\n",
    "E por último, irei averiguar as métricas do terceiro melhor conjunto de experimentos:\n",
    "\n",
    "![metrics_third_best](../images/plots/terceira_melhor_metrica.png)\n",
    "Vamos aos insights:\n",
    "- Embora não apareça no gráfico, o valor de **alpha** é de 320.\n",
    "- Independente do valor do parâmetro **max_iters**, o resultado é o mesmo nos 6 modelos treinados com o **alpha** de 320.\n",
    "\n",
    "\n",
    "**Conclusão:** \n",
    "- Os melhores resultados estão com um **alpha** de 640.\n",
    "- Não é possível saber se 640 é o melhor **alpha**.\n",
    "- Sabemos que o melhor **alpha** está entre 320 e 1280, pois apesar de 640 ter apresentado os melhores resultados, não sabemos se ele já estava caindo ou ainda melhorando de desempenho.\n",
    "- O numéro máximo de iterações não afeta o resultado.\n",
    "\n",
    "Agora, uma busca com GridSearch será realizada, com valores entre 640 e 1280 no **alpha** apenas, pois os outros parâmetros não mostraram alterar o resultado do modelo.\n"
   ]
  },
  {
   "cell_type": "code",
   "execution_count": 15,
   "metadata": {},
   "outputs": [
    {
     "data": {
      "text/html": [
       "<style>#sk-container-id-3 {color: black;background-color: white;}#sk-container-id-3 pre{padding: 0;}#sk-container-id-3 div.sk-toggleable {background-color: white;}#sk-container-id-3 label.sk-toggleable__label {cursor: pointer;display: block;width: 100%;margin-bottom: 0;padding: 0.3em;box-sizing: border-box;text-align: center;}#sk-container-id-3 label.sk-toggleable__label-arrow:before {content: \"▸\";float: left;margin-right: 0.25em;color: #696969;}#sk-container-id-3 label.sk-toggleable__label-arrow:hover:before {color: black;}#sk-container-id-3 div.sk-estimator:hover label.sk-toggleable__label-arrow:before {color: black;}#sk-container-id-3 div.sk-toggleable__content {max-height: 0;max-width: 0;overflow: hidden;text-align: left;background-color: #f0f8ff;}#sk-container-id-3 div.sk-toggleable__content pre {margin: 0.2em;color: black;border-radius: 0.25em;background-color: #f0f8ff;}#sk-container-id-3 input.sk-toggleable__control:checked~div.sk-toggleable__content {max-height: 200px;max-width: 100%;overflow: auto;}#sk-container-id-3 input.sk-toggleable__control:checked~label.sk-toggleable__label-arrow:before {content: \"▾\";}#sk-container-id-3 div.sk-estimator input.sk-toggleable__control:checked~label.sk-toggleable__label {background-color: #d4ebff;}#sk-container-id-3 div.sk-label input.sk-toggleable__control:checked~label.sk-toggleable__label {background-color: #d4ebff;}#sk-container-id-3 input.sk-hidden--visually {border: 0;clip: rect(1px 1px 1px 1px);clip: rect(1px, 1px, 1px, 1px);height: 1px;margin: -1px;overflow: hidden;padding: 0;position: absolute;width: 1px;}#sk-container-id-3 div.sk-estimator {font-family: monospace;background-color: #f0f8ff;border: 1px dotted black;border-radius: 0.25em;box-sizing: border-box;margin-bottom: 0.5em;}#sk-container-id-3 div.sk-estimator:hover {background-color: #d4ebff;}#sk-container-id-3 div.sk-parallel-item::after {content: \"\";width: 100%;border-bottom: 1px solid gray;flex-grow: 1;}#sk-container-id-3 div.sk-label:hover label.sk-toggleable__label {background-color: #d4ebff;}#sk-container-id-3 div.sk-serial::before {content: \"\";position: absolute;border-left: 1px solid gray;box-sizing: border-box;top: 0;bottom: 0;left: 50%;z-index: 0;}#sk-container-id-3 div.sk-serial {display: flex;flex-direction: column;align-items: center;background-color: white;padding-right: 0.2em;padding-left: 0.2em;position: relative;}#sk-container-id-3 div.sk-item {position: relative;z-index: 1;}#sk-container-id-3 div.sk-parallel {display: flex;align-items: stretch;justify-content: center;background-color: white;position: relative;}#sk-container-id-3 div.sk-item::before, #sk-container-id-3 div.sk-parallel-item::before {content: \"\";position: absolute;border-left: 1px solid gray;box-sizing: border-box;top: 0;bottom: 0;left: 50%;z-index: -1;}#sk-container-id-3 div.sk-parallel-item {display: flex;flex-direction: column;z-index: 1;position: relative;background-color: white;}#sk-container-id-3 div.sk-parallel-item:first-child::after {align-self: flex-end;width: 50%;}#sk-container-id-3 div.sk-parallel-item:last-child::after {align-self: flex-start;width: 50%;}#sk-container-id-3 div.sk-parallel-item:only-child::after {width: 0;}#sk-container-id-3 div.sk-dashed-wrapped {border: 1px dashed gray;margin: 0 0.4em 0.5em 0.4em;box-sizing: border-box;padding-bottom: 0.4em;background-color: white;}#sk-container-id-3 div.sk-label label {font-family: monospace;font-weight: bold;display: inline-block;line-height: 1.2em;}#sk-container-id-3 div.sk-label-container {text-align: center;}#sk-container-id-3 div.sk-container {/* jupyter's `normalize.less` sets `[hidden] { display: none; }` but bootstrap.min.css set `[hidden] { display: none !important; }` so we also need the `!important` here to be able to override the default hidden behavior on the sphinx rendered scikit-learn.org. See: https://github.com/scikit-learn/scikit-learn/issues/21755 */display: inline-block !important;position: relative;}#sk-container-id-3 div.sk-text-repr-fallback {display: none;}</style><div id=\"sk-container-id-3\" class=\"sk-top-container\"><div class=\"sk-text-repr-fallback\"><pre>GridSearchCV(cv=5,\n",
       "             estimator=Pipeline(steps=[(&#x27;transformer&#x27;,\n",
       "                                        ColumnTransformer(transformers=[(&#x27;scaler&#x27;,\n",
       "                                                                         StandardScaler(),\n",
       "                                                                         Index([&#x27;unit_price&#x27;, &#x27;quantity&#x27;, &#x27;total&#x27;, &#x27;lvl_estoque_past&#x27;, &#x27;mean&#x27;, &#x27;median&#x27;,\n",
       "       &#x27;min&#x27;, &#x27;max&#x27;, &#x27;std&#x27;, &#x27;var&#x27;, &#x27;hour&#x27;],\n",
       "      dtype=&#x27;object&#x27;)),\n",
       "                                                                        (&#x27;encoder&#x27;,\n",
       "                                                                         OneHotEncoder(drop=&#x27;first&#x27;),\n",
       "                                                                         Index([&#x27;category&#x27;, &#x27;customer_type&#x27;, &#x27;payment_type&#x27;, &#x27;day_of_week&#x27;,\n",
       "       &#x27;is_weekend&#x27;, &#x27;turn&#x27;],\n",
       "      dtype=&#x27;object&#x27;))])),\n",
       "                                       (&#x27;modelo&#x27;, Ridge(random_state=47))]),\n",
       "             param_grid={&#x27;modelo__alpha&#x27;: [320, 325, 330, 335, 340, 345, 350,\n",
       "                                           355, 360, 365, 370, 375, 380, 385,\n",
       "                                           390, 395, 400, 405, 410, 415, 420,\n",
       "                                           425, 430, 435, 440, 445, 450, 455,\n",
       "                                           460, 465, ...]},\n",
       "             scoring=&#x27;neg_root_mean_squared_error&#x27;)</pre><b>In a Jupyter environment, please rerun this cell to show the HTML representation or trust the notebook. <br />On GitHub, the HTML representation is unable to render, please try loading this page with nbviewer.org.</b></div><div class=\"sk-container\" hidden><div class=\"sk-item sk-dashed-wrapped\"><div class=\"sk-label-container\"><div class=\"sk-label sk-toggleable\"><input class=\"sk-toggleable__control sk-hidden--visually\" id=\"sk-estimator-id-17\" type=\"checkbox\" ><label for=\"sk-estimator-id-17\" class=\"sk-toggleable__label sk-toggleable__label-arrow\">GridSearchCV</label><div class=\"sk-toggleable__content\"><pre>GridSearchCV(cv=5,\n",
       "             estimator=Pipeline(steps=[(&#x27;transformer&#x27;,\n",
       "                                        ColumnTransformer(transformers=[(&#x27;scaler&#x27;,\n",
       "                                                                         StandardScaler(),\n",
       "                                                                         Index([&#x27;unit_price&#x27;, &#x27;quantity&#x27;, &#x27;total&#x27;, &#x27;lvl_estoque_past&#x27;, &#x27;mean&#x27;, &#x27;median&#x27;,\n",
       "       &#x27;min&#x27;, &#x27;max&#x27;, &#x27;std&#x27;, &#x27;var&#x27;, &#x27;hour&#x27;],\n",
       "      dtype=&#x27;object&#x27;)),\n",
       "                                                                        (&#x27;encoder&#x27;,\n",
       "                                                                         OneHotEncoder(drop=&#x27;first&#x27;),\n",
       "                                                                         Index([&#x27;category&#x27;, &#x27;customer_type&#x27;, &#x27;payment_type&#x27;, &#x27;day_of_week&#x27;,\n",
       "       &#x27;is_weekend&#x27;, &#x27;turn&#x27;],\n",
       "      dtype=&#x27;object&#x27;))])),\n",
       "                                       (&#x27;modelo&#x27;, Ridge(random_state=47))]),\n",
       "             param_grid={&#x27;modelo__alpha&#x27;: [320, 325, 330, 335, 340, 345, 350,\n",
       "                                           355, 360, 365, 370, 375, 380, 385,\n",
       "                                           390, 395, 400, 405, 410, 415, 420,\n",
       "                                           425, 430, 435, 440, 445, 450, 455,\n",
       "                                           460, 465, ...]},\n",
       "             scoring=&#x27;neg_root_mean_squared_error&#x27;)</pre></div></div></div><div class=\"sk-parallel\"><div class=\"sk-parallel-item\"><div class=\"sk-item\"><div class=\"sk-label-container\"><div class=\"sk-label sk-toggleable\"><input class=\"sk-toggleable__control sk-hidden--visually\" id=\"sk-estimator-id-18\" type=\"checkbox\" ><label for=\"sk-estimator-id-18\" class=\"sk-toggleable__label sk-toggleable__label-arrow\">estimator: Pipeline</label><div class=\"sk-toggleable__content\"><pre>Pipeline(steps=[(&#x27;transformer&#x27;,\n",
       "                 ColumnTransformer(transformers=[(&#x27;scaler&#x27;, StandardScaler(),\n",
       "                                                  Index([&#x27;unit_price&#x27;, &#x27;quantity&#x27;, &#x27;total&#x27;, &#x27;lvl_estoque_past&#x27;, &#x27;mean&#x27;, &#x27;median&#x27;,\n",
       "       &#x27;min&#x27;, &#x27;max&#x27;, &#x27;std&#x27;, &#x27;var&#x27;, &#x27;hour&#x27;],\n",
       "      dtype=&#x27;object&#x27;)),\n",
       "                                                 (&#x27;encoder&#x27;,\n",
       "                                                  OneHotEncoder(drop=&#x27;first&#x27;),\n",
       "                                                  Index([&#x27;category&#x27;, &#x27;customer_type&#x27;, &#x27;payment_type&#x27;, &#x27;day_of_week&#x27;,\n",
       "       &#x27;is_weekend&#x27;, &#x27;turn&#x27;],\n",
       "      dtype=&#x27;object&#x27;))])),\n",
       "                (&#x27;modelo&#x27;, Ridge(random_state=47))])</pre></div></div></div><div class=\"sk-serial\"><div class=\"sk-item\"><div class=\"sk-serial\"><div class=\"sk-item sk-dashed-wrapped\"><div class=\"sk-label-container\"><div class=\"sk-label sk-toggleable\"><input class=\"sk-toggleable__control sk-hidden--visually\" id=\"sk-estimator-id-19\" type=\"checkbox\" ><label for=\"sk-estimator-id-19\" class=\"sk-toggleable__label sk-toggleable__label-arrow\">transformer: ColumnTransformer</label><div class=\"sk-toggleable__content\"><pre>ColumnTransformer(transformers=[(&#x27;scaler&#x27;, StandardScaler(),\n",
       "                                 Index([&#x27;unit_price&#x27;, &#x27;quantity&#x27;, &#x27;total&#x27;, &#x27;lvl_estoque_past&#x27;, &#x27;mean&#x27;, &#x27;median&#x27;,\n",
       "       &#x27;min&#x27;, &#x27;max&#x27;, &#x27;std&#x27;, &#x27;var&#x27;, &#x27;hour&#x27;],\n",
       "      dtype=&#x27;object&#x27;)),\n",
       "                                (&#x27;encoder&#x27;, OneHotEncoder(drop=&#x27;first&#x27;),\n",
       "                                 Index([&#x27;category&#x27;, &#x27;customer_type&#x27;, &#x27;payment_type&#x27;, &#x27;day_of_week&#x27;,\n",
       "       &#x27;is_weekend&#x27;, &#x27;turn&#x27;],\n",
       "      dtype=&#x27;object&#x27;))])</pre></div></div></div><div class=\"sk-parallel\"><div class=\"sk-parallel-item\"><div class=\"sk-item\"><div class=\"sk-label-container\"><div class=\"sk-label sk-toggleable\"><input class=\"sk-toggleable__control sk-hidden--visually\" id=\"sk-estimator-id-20\" type=\"checkbox\" ><label for=\"sk-estimator-id-20\" class=\"sk-toggleable__label sk-toggleable__label-arrow\">scaler</label><div class=\"sk-toggleable__content\"><pre>Index([&#x27;unit_price&#x27;, &#x27;quantity&#x27;, &#x27;total&#x27;, &#x27;lvl_estoque_past&#x27;, &#x27;mean&#x27;, &#x27;median&#x27;,\n",
       "       &#x27;min&#x27;, &#x27;max&#x27;, &#x27;std&#x27;, &#x27;var&#x27;, &#x27;hour&#x27;],\n",
       "      dtype=&#x27;object&#x27;)</pre></div></div></div><div class=\"sk-serial\"><div class=\"sk-item\"><div class=\"sk-estimator sk-toggleable\"><input class=\"sk-toggleable__control sk-hidden--visually\" id=\"sk-estimator-id-21\" type=\"checkbox\" ><label for=\"sk-estimator-id-21\" class=\"sk-toggleable__label sk-toggleable__label-arrow\">StandardScaler</label><div class=\"sk-toggleable__content\"><pre>StandardScaler()</pre></div></div></div></div></div></div><div class=\"sk-parallel-item\"><div class=\"sk-item\"><div class=\"sk-label-container\"><div class=\"sk-label sk-toggleable\"><input class=\"sk-toggleable__control sk-hidden--visually\" id=\"sk-estimator-id-22\" type=\"checkbox\" ><label for=\"sk-estimator-id-22\" class=\"sk-toggleable__label sk-toggleable__label-arrow\">encoder</label><div class=\"sk-toggleable__content\"><pre>Index([&#x27;category&#x27;, &#x27;customer_type&#x27;, &#x27;payment_type&#x27;, &#x27;day_of_week&#x27;,\n",
       "       &#x27;is_weekend&#x27;, &#x27;turn&#x27;],\n",
       "      dtype=&#x27;object&#x27;)</pre></div></div></div><div class=\"sk-serial\"><div class=\"sk-item\"><div class=\"sk-estimator sk-toggleable\"><input class=\"sk-toggleable__control sk-hidden--visually\" id=\"sk-estimator-id-23\" type=\"checkbox\" ><label for=\"sk-estimator-id-23\" class=\"sk-toggleable__label sk-toggleable__label-arrow\">OneHotEncoder</label><div class=\"sk-toggleable__content\"><pre>OneHotEncoder(drop=&#x27;first&#x27;)</pre></div></div></div></div></div></div></div></div><div class=\"sk-item\"><div class=\"sk-estimator sk-toggleable\"><input class=\"sk-toggleable__control sk-hidden--visually\" id=\"sk-estimator-id-24\" type=\"checkbox\" ><label for=\"sk-estimator-id-24\" class=\"sk-toggleable__label sk-toggleable__label-arrow\">Ridge</label><div class=\"sk-toggleable__content\"><pre>Ridge(random_state=47)</pre></div></div></div></div></div></div></div></div></div></div></div></div>"
      ],
      "text/plain": [
       "GridSearchCV(cv=5,\n",
       "             estimator=Pipeline(steps=[('transformer',\n",
       "                                        ColumnTransformer(transformers=[('scaler',\n",
       "                                                                         StandardScaler(),\n",
       "                                                                         Index(['unit_price', 'quantity', 'total', 'lvl_estoque_past', 'mean', 'median',\n",
       "       'min', 'max', 'std', 'var', 'hour'],\n",
       "      dtype='object')),\n",
       "                                                                        ('encoder',\n",
       "                                                                         OneHotEncoder(drop='first'),\n",
       "                                                                         Index(['category', 'customer_type', 'payment_type', 'day_of_week',\n",
       "       'is_weekend', 'turn'],\n",
       "      dtype='object'))])),\n",
       "                                       ('modelo', Ridge(random_state=47))]),\n",
       "             param_grid={'modelo__alpha': [320, 325, 330, 335, 340, 345, 350,\n",
       "                                           355, 360, 365, 370, 375, 380, 385,\n",
       "                                           390, 395, 400, 405, 410, 415, 420,\n",
       "                                           425, 430, 435, 440, 445, 450, 455,\n",
       "                                           460, 465, ...]},\n",
       "             scoring='neg_root_mean_squared_error')"
      ]
     },
     "execution_count": 15,
     "metadata": {},
     "output_type": "execute_result"
    }
   ],
   "source": [
    "# Instanciando os transformadores\n",
    "sc = StandardScaler()\n",
    "ohe = OneHotEncoder(drop='first')\n",
    "\n",
    "# Selecionando os dados por tipo\n",
    "numericas = x_treino.select_dtypes(['int', 'float']).columns\n",
    "categoricas = x_treino.select_dtypes(['object', 'category']).columns\n",
    "\n",
    "# Criando o transformer\n",
    "transformer = ColumnTransformer(transformers=[('scaler', sc, numericas),\n",
    "                                              ('encoder', ohe, categoricas)])\n",
    "\n",
    "# Criando o pipeline\n",
    "pipe = Pipeline([('transformer', transformer),\n",
    "                ('modelo', Ridge(random_state=47))])\n",
    "\n",
    "# Definindo os parâmetros a serem testados\n",
    "params = {'modelo__alpha':list(range(320, 1281, 5))}\n",
    "\n",
    "# Buscando o melhor modelo\n",
    "gs_ridge = GridSearchCV(pipe, params, cv=5, scoring='neg_root_mean_squared_error')\n",
    "gs_ridge.fit(x_treino, y_treino)"
   ]
  },
  {
   "cell_type": "code",
   "execution_count": 16,
   "metadata": {},
   "outputs": [
    {
     "data": {
      "text/plain": [
       "{'modelo__alpha': 1280}"
      ]
     },
     "execution_count": 16,
     "metadata": {},
     "output_type": "execute_result"
    }
   ],
   "source": [
    "# Verificando os melhores parâmetros\n",
    "gs_ridge.best_params_"
   ]
  },
  {
   "attachments": {},
   "cell_type": "markdown",
   "metadata": {},
   "source": [
    "E aqui vemos que com validação cruzada, 1280 de alpha conseguiu superar o alpha de 640 que tinha se saído melhor nos experimentos. Note que a diferença entre eles era muito baixa, portanto, seguirei com o resultado de 1280 com validação cruzada. Finalmente vamos utilizar o nosso modelo do GridSearch nos dados de teste."
   ]
  },
  {
   "cell_type": "code",
   "execution_count": 17,
   "metadata": {},
   "outputs": [],
   "source": [
    "# Instanciando os transformadores\n",
    "sc = StandardScaler()\n",
    "ohe = OneHotEncoder(drop='first')\n",
    "\n",
    "# Selecionando os dados por tipo\n",
    "numericas = x_treino.select_dtypes(['int', 'float']).columns\n",
    "categoricas = x_treino.select_dtypes(['object', 'category']).columns\n",
    "\n",
    "# Criando o transformer\n",
    "transformer = ColumnTransformer(transformers=[('scaler', sc, numericas),\n",
    "                                              ('encoder', ohe, categoricas)])\n",
    "\n",
    "# Criando o pipeline\n",
    "pipe = Pipeline([('transformer', transformer),\n",
    "                ('modelo', Ridge(alpha = 1280, random_state=47))])"
   ]
  },
  {
   "cell_type": "code",
   "execution_count": 18,
   "metadata": {},
   "outputs": [],
   "source": [
    "# Treinando o modelo\n",
    "pipe.fit(x_treino, y_treino)\n",
    "\n",
    "# Realizando previsões\n",
    "y_pred = pipe.predict(x_teste)\n",
    "\n",
    "# Medindo as métricas\n",
    "mae = mean_absolute_error(y_pred, y_teste)\n",
    "rmse = mean_squared_error(y_pred, y_teste, squared=False)"
   ]
  },
  {
   "cell_type": "code",
   "execution_count": 19,
   "metadata": {},
   "outputs": [
    {
     "name": "stdout",
     "output_type": "stream",
     "text": [
      "MAE: 0.24453548535164174\n",
      "RMSE: 0.28362245118239676\n"
     ]
    }
   ],
   "source": [
    "# Checando as métricas\n",
    "print('MAE:', mae)\n",
    "print('RMSE:', rmse)"
   ]
  },
  {
   "attachments": {},
   "cell_type": "markdown",
   "metadata": {},
   "source": [
    "As previsões estão semelhantes as vistas nos experimentos, então temos um bom fit aqui. Além disso, os valores de MAE e RMSE estão próximos, indicando que previsões anômalas não estão sendo realizadas pelo modelo."
   ]
  },
  {
   "cell_type": "code",
   "execution_count": 20,
   "metadata": {},
   "outputs": [
    {
     "data": {
      "text/plain": [
       "['../models/pipeline.pkl']"
      ]
     },
     "execution_count": 20,
     "metadata": {},
     "output_type": "execute_result"
    }
   ],
   "source": [
    "# Salvando o modelo\n",
    "joblib.dump(pipe, '../models/pipeline.pkl')"
   ]
  },
  {
   "attachments": {},
   "cell_type": "markdown",
   "metadata": {},
   "source": [
    "### Comparando resultados\n",
    "Nesta sessão irei comparar o resultado entre as predições do modelo e ver se estão consistentes."
   ]
  },
  {
   "cell_type": "code",
   "execution_count": 21,
   "metadata": {},
   "outputs": [
    {
     "data": {
      "text/plain": [
       "Text(0.5, 1.0, 'y_pred')"
      ]
     },
     "execution_count": 21,
     "metadata": {},
     "output_type": "execute_result"
    },
    {
     "data": {
      "image/png": "[encoded data removed]",
      "text/plain": [
       "<Figure size 640x480 with 2 Axes>"
      ]
     },
     "metadata": {},
     "output_type": "display_data"
    }
   ],
   "source": [
    "# Plotandoos gráficos\n",
    "fig, axes = plt.subplots(1, 2)\n",
    "fig.suptitle('Distribuição de valores entre teste e predições')\n",
    "sns.violinplot(list(y_teste), ax=axes[0])\n",
    "axes[0].set_title('y_teste')\n",
    "sns.violinplot(y_pred, ax=axes[1])\n",
    "axes[1].set_title('y_pred')"
   ]
  },
  {
   "attachments": {},
   "cell_type": "markdown",
   "metadata": {},
   "source": [
    "As predições estão bem concentradas entre 0.48 e 0.52, enquanto os dados reais variam bastante. E isso é um problema, pois demonstra que o modelo não conseguiu aprender tão bem assim.\n",
    "\n",
    "Neste caso, precisaríamos de mais dados para poder produzir uma solução mais eficiente."
   ]
  }
 ],
 "metadata": {
  "kernelspec": {
   "display_name": "Python 3",
   "language": "python",
   "name": "python3"
  },
  "language_info": {
   "codemirror_mode": {
    "name": "ipython",
    "version": 3
   },
   "file_extension": ".py",
   "mimetype": "text/x-python",
   "name": "python",
   "nbconvert_exporter": "python",
   "pygments_lexer": "ipython3",
   "version": "3.9.13"
  }
 },
 "nbformat": 4,
 "nbformat_minor": 0
}
